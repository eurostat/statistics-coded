{
 "cells": [
  {
   "cell_type": "markdown",
   "metadata": {
    "id": "weVfzNkwEXfv"
   },
   "source": [
    "# *Statistics coded:* Trade, investment and employment as aspects of globalisation \n",
    "\n",
    "Prepared by **D.Gojsic** ([_Eurostat_](https://ec.europa.eu/eurostat), task force Peer Reviews and Quality).\n",
    "\n",
    "This notebook aims at reproducing the figures/graphs of the *Statistics Explained*  article on [**Trade, investment and employment as aspects of globalisation**](https://ec.europa.eu/eurostat/statistics-explained/index.php?title=Trade,_investment_and_employment_as_aspects_of_globalisation)."
   ]
  },
  {
   "cell_type": "markdown",
   "metadata": {
    "id": "WC0y07O1EXf8"
   },
   "source": [
    "## Configuration\n",
    "\n",
    "* Import necessary packages and set global properties, such as countrynames for EU28 and corresponding labels"
   ]
  },
  {
   "cell_type": "code",
   "execution_count": 1,
   "metadata": {
    "colab": {
     "base_uri": "https://localhost:8080/"
    },
    "id": "f53mAXHcEa2f",
    "outputId": "154b3e5a-00fe-4052-d65e-0569732d1127"
   },
   "outputs": [
    {
     "name": "stderr",
     "output_type": "stream",
     "text": [
      "/srv/conda/envs/notebook/lib/python3.7/site-packages/google/colab/data_table.py:30: UserWarning: IPython.utils.traitlets has moved to a top-level traitlets package.\n",
      "  from IPython.utils import traitlets as _traitlets\n"
     ]
    },
    {
     "name": "stdout",
     "output_type": "stream",
     "text": [
      "Requirement already satisfied: eurostatapiclient in /srv/conda/envs/notebook/lib/python3.7/site-packages (0.2.7)\n",
      "Requirement already satisfied: requests>=2.21.0 in /srv/conda/envs/notebook/lib/python3.7/site-packages (from eurostatapiclient) (2.26.0)\n",
      "Requirement already satisfied: pandas>=0.23.4 in /srv/conda/envs/notebook/lib/python3.7/site-packages (from eurostatapiclient) (0.25.3)\n",
      "Requirement already satisfied: python-dateutil>=2.6.1 in /srv/conda/envs/notebook/lib/python3.7/site-packages (from pandas>=0.23.4->eurostatapiclient) (2.8.2)\n",
      "Requirement already satisfied: pytz>=2017.2 in /srv/conda/envs/notebook/lib/python3.7/site-packages (from pandas>=0.23.4->eurostatapiclient) (2021.1)\n",
      "Requirement already satisfied: numpy>=1.13.3 in /srv/conda/envs/notebook/lib/python3.7/site-packages (from pandas>=0.23.4->eurostatapiclient) (1.21.2)\n",
      "Requirement already satisfied: six>=1.5 in /srv/conda/envs/notebook/lib/python3.7/site-packages (from python-dateutil>=2.6.1->pandas>=0.23.4->eurostatapiclient) (1.16.0)\n",
      "Requirement already satisfied: certifi>=2017.4.17 in /srv/conda/envs/notebook/lib/python3.7/site-packages (from requests>=2.21.0->eurostatapiclient) (2021.5.30)\n",
      "Requirement already satisfied: idna<4,>=2.5 in /srv/conda/envs/notebook/lib/python3.7/site-packages (from requests>=2.21.0->eurostatapiclient) (3.1)\n",
      "Requirement already satisfied: charset-normalizer~=2.0.0 in /srv/conda/envs/notebook/lib/python3.7/site-packages (from requests>=2.21.0->eurostatapiclient) (2.0.0)\n",
      "Requirement already satisfied: urllib3<1.27,>=1.21.1 in /srv/conda/envs/notebook/lib/python3.7/site-packages (from requests>=2.21.0->eurostatapiclient) (1.26.6)\n"
     ]
    }
   ],
   "source": [
    "try:\n",
    "  import google.colab\n",
    "  !pip install eurostatapiclient\n",
    "except:\n",
    "  pass"
   ]
  },
  {
   "cell_type": "code",
   "execution_count": 2,
   "metadata": {
    "id": "HoJb_QK9Eb0n"
   },
   "outputs": [],
   "source": [
    "## %%bash\n",
    "## [[ ! -e /colabtools ]] && exit\n",
    "## pip install eurostatapiclient"
   ]
  },
  {
   "cell_type": "code",
   "execution_count": 3,
   "metadata": {
    "id": "EbKYreyvEXgD"
   },
   "outputs": [],
   "source": [
    "from eurostatapiclient import EurostatAPIClient\n",
    "import numpy as np\n",
    "import pandas as pd\n",
    "import seaborn as sns\n",
    "import matplotlib.pyplot as plt\n",
    "import matplotlib.ticker as ticker\n",
    "import matplotlib.patches as mpatches\n",
    "from sklearn.linear_model import LinearRegression\n",
    "\n",
    "legend_properties = {'weight':'bold','size':'12'}\n",
    "countries_names = {'AT':'Austria', 'BE':'Belgium', 'BG':'Bulgaria', 'CY': 'Cyprus', \n",
    "                   'CZ': 'Czechia', 'DE': 'Germany', 'DK': 'Denmark', 'EE':'Estonia', \n",
    "                   'EL': 'Greece', 'ES':'Spain', 'FI':'Finland', 'FR':'France', \n",
    "                   'HR':'Croatia', 'HU':'Hungary', 'IE':'Ireland', 'IT':'Italy', \n",
    "                   'LT':'Lithuania', 'LU':'Luxembourg', 'LV':'Latvia', 'MT': 'Malta', \n",
    "                   'NL':'Netherlands', 'PL':'Poland', 'PT':'Portugal', 'RO':'Romania', \n",
    "                   'SE':'Sweden', 'SI':'Slovenia', 'SK':'Slovakia', 'UK':'United Kingdom', \n",
    "                   'EU28': 'EU-28', 'EU27_2020':'EU-27'}\n",
    "countries_abbr = ['AT', 'BE', 'BG', 'CY', 'CZ', 'DE', 'DK', 'EE', 'EL', 'ES', 'FI', \n",
    "                  'FR', 'HR', 'HU', 'IE', 'IT', 'LT', 'LU', 'LV', 'NV', 'NL', 'PL', \n",
    "                  'PT', 'RO', 'SE', 'SI', 'SK', 'UK', 'MT', \n",
    "                  'EU28']"
   ]
  },
  {
   "cell_type": "markdown",
   "metadata": {
    "id": "1CC1-QzMEXgq"
   },
   "source": [
    "* Set up `eurostatapiclinet` by supplying settings, which will stay the same throught"
   ]
  },
  {
   "cell_type": "code",
   "execution_count": 4,
   "metadata": {
    "id": "R0IwIFf5EXgv"
   },
   "outputs": [],
   "source": [
    "#Set versions and formats, so far only the ones used here are availeable and call client\n",
    "VERSION = 'v2.1'\n",
    "FORMAT = 'json'\n",
    "LANGUAGE = 'en'\n",
    "client = EurostatAPIClient(VERSION, FORMAT, LANGUAGE)"
   ]
  },
  {
   "cell_type": "markdown",
   "metadata": {
    "id": "TQzzXeC1EXg_"
   },
   "source": [
    "* Define  Functions for graphing"
   ]
  },
  {
   "cell_type": "code",
   "execution_count": 5,
   "metadata": {
    "id": "ldMepZpJEXhC"
   },
   "outputs": [],
   "source": [
    "def subcategorybar(X,vals,lower,upper,distance,col,rot,width=0.6):\n",
    "    ax.grid(axis='y', color='silver', linestyle='--', linewidth=1)\n",
    "    n = len(vals)\n",
    "    _X = np.arange(len(X))\n",
    "    X_ticks=np.insert(np.append(_X,_X[-1]+1), _X[0],_X[0]-0.5)\n",
    "\n",
    "    [plt.bar(_X - width/2. + i/float(n)*width, vals[i],\n",
    "             width=width/float(n), align=\"edge\", zorder=2, color=col[i])\n",
    "    for i in range(n)]\n",
    "        \n",
    "    ax.set_xlim(left=X_ticks[0],right=X_ticks[-1]-0.5)\n",
    "    ax.tick_params(axis='x', which='minor', length=0)    \n",
    "    ax.set_xticks(_X, minor=True)\n",
    "    ax.set_xticklabels(X, minor = True)\n",
    "    ax.set_xticks(X_ticks-0.5, minor=False)\n",
    "    ax.set_xticklabels('', minor=False)\n",
    "    \n",
    "    Y_ticks=range(lower,upper,distance)\n",
    "    ax.set_yticks(Y_ticks)\n",
    "    new_ticks= [str(i)+'%'for i in Y_ticks]\n",
    "    new_ticks[0]='%'\n",
    "    ax.set_yticklabels(new_ticks)\n",
    "    ax.tick_params(axis='y', which='major', length=0)\n",
    "    \n",
    "    ax.spines['top'].set_visible(False)\n",
    "    ax.spines['left'].set_visible(False)\n",
    "    ax.spines['right'].set_visible(False)\n",
    "    \n",
    "    [tick.set_rotation(rot) for tick in ax.get_xticklabels(minor=True)]"
   ]
  },
  {
   "cell_type": "code",
   "execution_count": 6,
   "metadata": {
    "id": "W8WyO7t0EXhU"
   },
   "outputs": [],
   "source": [
    "def hcatbar(Y,cats,lower,upper,col,labsize,barsize,width=0.6): \n",
    "    y_pos = np.arange(len(cats))\n",
    "    if any(Y)>0:\n",
    "        ax.barh(y_pos, Y,align='center', \n",
    "                color= (Y < 0).map({True: col[0], False: col[1]}), \n",
    "                zorder=2, height=barsize)\n",
    "        ax.spines['left'].set_position('zero')\n",
    "    else:\n",
    "        ax.barh(y_pos, Y,align='center', color= col, zorder=2, height=barsize)\n",
    "        \n",
    "    ax.set_xlim(lower,upper)\n",
    "    ax.set_yticks(y_pos)\n",
    "    ax.tick_params(axis='y', which='major', labelsize=labsize, length=0)\n",
    "    ax.set_yticklabels(cats)\n",
    "    ax.spines['left'].set_visible(False)\n",
    "    ax.spines['top'].set_visible(False)\n",
    "    ax.spines['right'].set_visible(False)\n",
    "    ax.spines['bottom'].set_visible(False)\n",
    "\n",
    "    for n, label in enumerate(ax.yaxis.get_ticklabels()):\n",
    "        label.set_horizontalalignment('left' if(Y[n]<0) else 'right')\n",
    "        \n",
    "    for n, tick in enumerate(ax.get_yaxis().get_major_ticks()):\n",
    "        if(Y[n]>=0): continue\n",
    "        tick.set_pad(-4)\n",
    "\n",
    "    ax.grid(axis='x', color='silver', linestyle='--', linewidth=1)\n",
    "    ax.tick_params(axis='x', which='major', length=0)"
   ]
  },
  {
   "cell_type": "markdown",
   "metadata": {
    "id": "aku8bwr4EXhn"
   },
   "source": [
    "* Set parameters for data of interest and retrieve requested data. \n",
    "* Clean and wrangle data so that it is usable, by filtering `NANs` and pivoting, so the final dataframe consists of two columns, which will be graphed as bars"
   ]
  },
  {
   "cell_type": "code",
   "execution_count": 7,
   "metadata": {
    "id": "t-vUIaN0EXht"
   },
   "outputs": [],
   "source": [
    "par_df1 = {\n",
    "    'na_item': ['P6','P7'],\n",
    "    'sinceTimePeriod': '2010',\n",
    "    'geo':'EU27_2020',\n",
    "    'unit':'PC_GDP'\n",
    "}\n",
    "\n",
    "df1 = client.get_dataset('nama_10_gdp', params=par_df1).to_dataframe()\n",
    "\n",
    "par_df1.update({'lastTimePeriod': '2020'})\n",
    "df1 = (df1[df1.time <= par_df1['lastTimePeriod']]\n",
    "       .pivot(index='time', columns='na_item', values='values')\n",
    "       .reset_index()\n",
    "       .rename(columns={'P6':'Exports', 'P7':'Imports'})\n",
    "       )"
   ]
  },
  {
   "cell_type": "markdown",
   "metadata": {
    "id": "iblLzOqoEXh1"
   },
   "source": [
    "## International trade\n",
    "\n",
    "### Figure 1: EU-27 imports and exports in percentage of GDP by year\n",
    "\n",
    "Use options as laid out in the function above. Additionally, define patches for custom legend and provide custom Title"
   ]
  },
  {
   "cell_type": "code",
   "execution_count": 8,
   "metadata": {
    "colab": {
     "base_uri": "https://localhost:8080/",
     "height": 340
    },
    "id": "6mK2jlRUEXh9",
    "outputId": "c29811e4-5d0e-49d9-f354-4db9e6a1a41e"
   },
   "outputs": [
    {
     "data": {
      "image/png": "[encoded data removed]",
      "text/plain": [
       "<Figure size 1080x288 with 1 Axes>"
      ]
     },
     "metadata": {
      "needs_background": "light"
     },
     "output_type": "display_data"
    }
   ],
   "source": [
    "#make plot\n",
    "fig, ax = plt.subplots(figsize=(15, 4))\n",
    "\n",
    "subcategorybar(df1['time'], [df1['Exports'], df1['Imports']], \n",
    "               0, 55, 5, ['crimson','royalblue'], 0)\n",
    "red_patch = mpatches.Patch(color='crimson', label='Exports as % of GDP')\n",
    "blue_patch = mpatches.Patch(color='royalblue', label='Imports as % of GDP')\n",
    "leg = ax.legend(handles=[red_patch,blue_patch],frameon=False, loc=(0.26, -0.26), \n",
    "                ncol=2, prop=legend_properties, labelspacing=0.1, handlelength=0.5)\n",
    "[patch.set_height(6) for patch in leg.get_patches()]\n",
    "ax.set_title('{} imports and exports in percentage of GDP by year, {}-{}'\n",
    "             .format(countries_names[par_df1['geo']],par_df1['sinceTimePeriod'],par_df1['lastTimePeriod']),\n",
    "             fontsize=15,fontweight='bold',y=1.08, x=0.3)\n",
    "\n",
    "plt.show()"
   ]
  },
  {
   "cell_type": "markdown",
   "metadata": {
    "id": "DPk3OpnCEXiO"
   },
   "source": [
    "Request and wrangle data so that it is usable, by pivoting dataframe, and sorting it for graphing"
   ]
  },
  {
   "cell_type": "code",
   "execution_count": 9,
   "metadata": {
    "id": "bmP_d75WEXiQ"
   },
   "outputs": [],
   "source": [
    "#df2 manipulation\n",
    "par_df2 = {\n",
    "    'na_item': ['P6','P7'],\n",
    "    'time': '2018',\n",
    "    'geo':countries_abbr,\n",
    "    'unit':'PC_GDP'\n",
    "}\n",
    "\n",
    "df2 = client.get_dataset('nama_10_gdp', params=par_df2).to_dataframe()\n",
    "df2 = (df2\n",
    "       .pivot(index='geo', columns='na_item', values='values')\n",
    "       .reset_index()\n",
    "       .rename(columns={'P6':'Exports', 'P7':'Imports'})\n",
    "       )\n",
    "df2['geo'] = df2['geo'].map(countries_names)\n",
    "df2 = df2.sort_values(by='Exports', ascending=False)"
   ]
  },
  {
   "cell_type": "markdown",
   "metadata": {
    "id": "ATDwZQiNEXiY"
   },
   "source": [
    "### Figure 2: Imports and exports in percentage of GDP by country\n",
    "\n",
    "Add custom legend, title."
   ]
  },
  {
   "cell_type": "code",
   "execution_count": 10,
   "metadata": {
    "colab": {
     "base_uri": "https://localhost:8080/",
     "height": 392
    },
    "id": "q18iOW6dEXie",
    "outputId": "67b6a1ca-f9f9-4ded-e871-92660433bf96"
   },
   "outputs": [
    {
     "data": {
      "image/png": "[encoded data removed]",
      "text/plain": [
       "<Figure size 1080x288 with 1 Axes>"
      ]
     },
     "metadata": {
      "needs_background": "light"
     },
     "output_type": "display_data"
    }
   ],
   "source": [
    "fig, ax = plt.subplots(figsize=(15, 4))\n",
    "subcategorybar(df2['geo'], [df2['Exports'], df2['Imports']], \n",
    "               0,300,50, ['crimson','royalblue'],90)\n",
    "\n",
    "#patches are set with the corresponding labels\n",
    "red_patch = mpatches.Patch(color='crimson', label='Exports as % of GDP')\n",
    "blue_patch = mpatches.Patch(color='royalblue', label='Imports as % of GDP')\n",
    "\n",
    "leg= ax.legend(handles=[red_patch,blue_patch],frameon=False, loc=(0.26, -0.5), \n",
    "               ncol=2, prop=legend_properties,labelspacing=0.1, handlelength=0.5)\n",
    "    \n",
    "ax.set_title('Imports and exports in % of GDP by country, {}'\n",
    "              .format(par_df2['time']),fontsize=15,fontweight='bold',y=1.08, x=0.21)\n",
    "\n",
    "plt.show()"
   ]
  },
  {
   "cell_type": "markdown",
   "metadata": {
    "id": "nPpmem8NEXip"
   },
   "source": [
    "Request and wrangle data so that it is usable, by pivoting dataframe, and sorting it for graphing"
   ]
  },
  {
   "cell_type": "code",
   "execution_count": 11,
   "metadata": {
    "id": "xPsWw2x8EXis"
   },
   "outputs": [],
   "source": [
    "par_df3={\n",
    "    'na_item': ['P6','P7'],\n",
    "    'time': '2018',\n",
    "    'geo':[countries_abbr,'EU28'],\n",
    "    'unit':'PC_GDP'\n",
    "}\n",
    "\n",
    "df3 = (client.get_dataset('nama_10_gdp', params=par_df3)\n",
    "       .to_dataframe()\n",
    "       .pivot(index='geo', columns='na_item', values='values')\n",
    "       .reset_index()\n",
    "       .rename(columns={'P6':'Exports', 'P7':'Imports'})\n",
    "       )\n",
    "# issues with some pandas version, including on Google colab... ? we use methods for regular operations\n",
    "df3['balance'] = (df3['Exports']\n",
    "                   .sub(df3['Imports'])\n",
    "                   .div(df3['Exports']) \n",
    "                   )\n",
    "# df3['balance']=(df3['Exports'] - df3['Imports']) /df3['Exports']\n",
    "\n",
    "df3['geo'] = df3['geo'].map(countries_names)\n",
    "df3 = (df3\n",
    "       .sort_values(by='balance', ascending=True)\n",
    "       .reset_index(drop=True)\n",
    "       )"
   ]
  },
  {
   "cell_type": "markdown",
   "metadata": {
    "id": "ys7zUPsuEXjL"
   },
   "source": [
    "### Figure 3: Export-Import balance by country\n",
    "\n",
    "Add custom legend, title."
   ]
  },
  {
   "cell_type": "code",
   "execution_count": 12,
   "metadata": {
    "colab": {
     "base_uri": "https://localhost:8080/",
     "height": 497
    },
    "id": "r_-TZNyLEXjO",
    "outputId": "966c599d-7e0c-4314-fd5b-64867e560436"
   },
   "outputs": [
    {
     "data": {
      "image/png": "[encoded data removed]",
      "text/plain": [
       "<Figure size 1080x576 with 1 Axes>"
      ]
     },
     "metadata": {
      "needs_background": "light"
     },
     "output_type": "display_data"
    }
   ],
   "source": [
    "fig, ax = plt.subplots(figsize=(15, 8))\n",
    "hcatbar(df3['balance'], df3['geo'], \n",
    "        -0.1, 0.3, ['crimson', 'royalblue'], 8,0.4)\n",
    "ax.set_ylim(-0.75,28.5)\n",
    "ax.set_title('Export-Import balance by country, {}'\n",
    "             .format(par_df3['time']),fontsize=15,fontweight='bold',y=1.00, x=0.3)\n",
    "plt.show()"
   ]
  },
  {
   "cell_type": "markdown",
   "metadata": {
    "id": "gfdpf8dnEXjX"
   },
   "source": [
    "Request and wrangle data so that it is usable, by pivoting dataframe, and calculating quantities of interest to be graphed"
   ]
  },
  {
   "cell_type": "code",
   "execution_count": 13,
   "metadata": {
    "id": "LPc2X4WhEXjf"
   },
   "outputs": [],
   "source": [
    "par_df4_bop = {\n",
    "    'fdi_item': ['DO__D__F','DI__D__F'],\n",
    "    'precision': '0',\n",
    "    'geo':'EU28',\n",
    "    'partner':'EXT_EU28',\n",
    "    'stk_flow':['NO','NI'],\n",
    "    'currency':'MIO_EUR',\n",
    "    'entity':'TOTAL',\n",
    "    'nace_r2':'FDI'\n",
    "}\n",
    "\n",
    "par_df4_gdp={\n",
    "    'unit':'CP_MEUR',\n",
    "    'na_item': 'B1G',\n",
    "    'time':['2013','2014','2015','2016','2017'],\n",
    "    'geo':'EU28',\n",
    "    'nace_r2':'TOTAL'\n",
    "}\n",
    "\n",
    "df4_bop = client.get_dataset('bop_fdi6_pos', params=par_df4_bop).to_dataframe().dropna()\n",
    "df4_gdp = client.get_dataset('nama_10_a64', params=par_df4_gdp).to_dataframe()\n",
    "\n",
    "df4 = (df4_bop\n",
    "        .merge(df4_gdp[['values','time']], how='left', left_on='time', right_on='time')\n",
    "        )\n",
    "df4['per_gdp'] = (df4['values_x']\n",
    "                  .div(df4['values_y'])\n",
    "                  .apply(lambda x: x*100)  \n",
    "                  )\n",
    "# df_4['per_gdp'] = (df_4['values_x']/df_4['values_y'])*100\n",
    "df4 = (df4\n",
    "       .pivot(index='time', columns='stk_flow', values='per_gdp')\n",
    "       .reset_index()\n",
    "       .rename(columns={'NI':'Inward', 'NO':'Outward'})\n",
    "       )"
   ]
  },
  {
   "cell_type": "markdown",
   "metadata": {
    "id": "cW9aMrHkEXkQ"
   },
   "source": [
    "## Foreign direct investment\n",
    "\n",
    "### Figure 4: Inward and outward foreign direct investment stocks relative to the rest of the world as a percentage of GDP\n",
    "\n",
    "Add custom legend, title."
   ]
  },
  {
   "cell_type": "code",
   "execution_count": 14,
   "metadata": {
    "colab": {
     "base_uri": "https://localhost:8080/",
     "height": 358
    },
    "id": "5qtdj8QSEXkW",
    "outputId": "904093c6-accf-4265-bf31-b9886dcef41f"
   },
   "outputs": [
    {
     "data": {
      "image/png": "[encoded data removed]",
      "text/plain": [
       "<Figure size 1080x288 with 1 Axes>"
      ]
     },
     "metadata": {
      "needs_background": "light"
     },
     "output_type": "display_data"
    }
   ],
   "source": [
    "#make plot\n",
    "fig, ax = plt.subplots(figsize=(15, 4))\n",
    "subcategorybar(df4['time'],  [df4['Outward'],df4['Inward']], \n",
    "               0,70,10, ['crimson','royalblue'],0)\n",
    "red_patch = mpatches.Patch(color='crimson', label='EU outward FDI stocks as % of GDP')\n",
    "blue_patch = mpatches.Patch(color='royalblue', label='EU inward FDI stocks as % of GDP')\n",
    "\n",
    "leg= ax.legend(handles=[red_patch,blue_patch],frameon=False, loc=(0.26, -0.26), \n",
    "               ncol=2, prop=legend_properties,labelspacing=0.1, handlelength=0.5)\n",
    "[patch.set_height(6) for patch in leg.get_patches()]\n",
    "ax.set_title('Inward and outward foreign direct investment stocks relative to the rest of \\nthe world as a percentage of GDP, {}, {}-{}'\n",
    "              .format(par_df4_gdp['geo'],min(par_df4_gdp['time']),max(par_df4_gdp['time'])),\n",
    "             fontsize=15,fontweight='bold',y=1.08, x=-0.025, loc='left')\n",
    "plt.show()"
   ]
  },
  {
   "cell_type": "markdown",
   "metadata": {
    "id": "zJajzByKEXkm"
   },
   "source": [
    "Request and wrangle data so that it is usable, by pivoting dataframe, and calculating quantities of interest to be graphed, additionally sort out outliers as defined in source graphs"
   ]
  },
  {
   "cell_type": "code",
   "execution_count": 15,
   "metadata": {
    "id": "7JKmDvo3EXkp"
   },
   "outputs": [],
   "source": [
    "par_df5_bop={\n",
    "    'fdi_item': ['DO__D__F','DI__D__F'],\n",
    "    'precision': '0',\n",
    "    'geo':countries_abbr,\n",
    "    'partner':'WRL_REST',\n",
    "    'stk_flow':['NO','NI'],\n",
    "    'currency':'MIO_EUR',\n",
    "    'time':'2017',\n",
    "    'entity':'TOTAL',\n",
    "    'nace_r2':'FDI'\n",
    "}\n",
    "\n",
    "par_df5_gdp={\n",
    "    'unit':'CP_MEUR',\n",
    "    'na_item': 'B1G',\n",
    "    'time':'2017',\n",
    "    'geo':countries_abbr,\n",
    "    'nace_r2':'TOTAL'\n",
    "}"
   ]
  },
  {
   "cell_type": "code",
   "execution_count": null,
   "metadata": {
    "id": "EGtjEbbmEXk6"
   },
   "outputs": [],
   "source": [
    "df5_bop = client.get_dataset('bop_fdi6_pos', params=par_df5_bop).to_dataframe().dropna()\n",
    "df5_gdp = client.get_dataset('nama_10_a64', params=par_df5_gdp).to_dataframe()\n",
    "\n",
    "df5 = (df5_bop\n",
    "       .merge(df5_gdp[['values','geo']],how='left', left_on='geo', right_on='geo')\n",
    "      )\n",
    "df5['per_gdp'] = df5['values_x'].div(df5['values_y']).apply(lambda x: x*100)  \n",
    "# df5['per_gdp'] = (df5['values_x']/df5['values_y'])*100\n",
    "\n",
    "df5 = (df5\n",
    "       .pivot(index='geo', columns='stk_flow', values='per_gdp')\n",
    "       .reset_index()\n",
    "       .rename(columns={'NI':'Inward', 'NO':'Outward'})\n",
    "      )\n",
    "\n",
    "df6 = df5.copy()\n",
    "\n",
    "outlier = df5.loc[df5['geo'].isin(['IE','MT','CY','LU','NL'])]\n",
    "df5 = (df5\n",
    "       .loc[df5['geo'].isin(['IE','MT','CY','LU','NL','EU28'])==False]\n",
    "       .reset_index()\n",
    "      )"
   ]
  },
  {
   "cell_type": "markdown",
   "metadata": {
    "id": "EOi6xNR3EXlK"
   },
   "source": [
    "### Figure 5: Inward and outward foreign direct investment by Member State\n",
    "\n",
    "Emulate style manually and add labels to observations. In addition, add a linear approximation for purposes of data exploration."
   ]
  },
  {
   "cell_type": "code",
   "execution_count": null,
   "metadata": {
    "colab": {
     "base_uri": "https://localhost:8080/",
     "height": 315
    },
    "id": "BF6xH7xIEXlM",
    "outputId": "903f9a78-e7f6-41cd-a0c2-c8e2032f0276"
   },
   "outputs": [],
   "source": [
    "fig, ax = plt.subplots(figsize=(15, 4))\n",
    "ax.grid(axis='y', color='silver', linestyle='--', linewidth=0.75)\n",
    "ax.grid(axis='x', color='silver', linestyle='--', linewidth=0.75)\n",
    "ax.spines['top'].set_visible(False)\n",
    "ax.spines['left'].set_visible(False)\n",
    "ax.spines['right'].set_visible(False)\n",
    "ax.set_xlim(left=0,right=160)\n",
    "ax.set_ylim(0,200)\n",
    "\n",
    "ax.tick_params(axis='y', which='major', length=0)\n",
    "\n",
    "for i,type in enumerate(df5['geo']):\n",
    "    x, y = df5['Outward'][i], df5['Inward'][i]\n",
    "    ax.scatter(x, y, marker='.', color='royalblue')\n",
    "    ax.text(x-1, y+3, type, fontsize=9)\n",
    "\n",
    "z = np.polyfit(df5['Outward'], df5['Inward'], 1)\n",
    "p = np.poly1d(z)\n",
    "plt.plot(df5['Outward'],p(df5['Outward']),\"r\")\n",
    "\n",
    "ax.set_title('Inward and outward foreign direct investment by Member State, in percentage of GDP, {}'\n",
    "              .format(par_df5_gdp['time']),\n",
    "             fontsize=15,fontweight='bold',y=1.08, x=-0.025, loc='left')\n",
    "plt.xlabel('EU outward FDI stocks as % of GDP')\n",
    "plt.ylabel('EU inward FDI stocks as % of GDP')\n",
    "\n",
    "plt.show()"
   ]
  },
  {
   "cell_type": "markdown",
   "metadata": {
    "id": "Cjn4N09REXlY"
   },
   "source": [
    "Request and wrangle data so that it is usable, by pivoting dataframe"
   ]
  },
  {
   "cell_type": "code",
   "execution_count": null,
   "metadata": {
    "id": "8FcBlpY0EXlZ"
   },
   "outputs": [],
   "source": [
    "df6['balance'] = (df6['Outward']\n",
    "                  .div(df6['Inward'])\n",
    "                  .apply(lambda x: x-1)\n",
    "                  )\n",
    "# df6['balance'] = (df6['Outward']/df6['Inward'])-1\n",
    "\n",
    "df6['geo'] = df6['geo'].map(countries_names)\n",
    "df6 = (df6\n",
    "       .sort_values(by='balance', ascending=True)\n",
    "       .reset_index(drop=True)\n",
    "      )"
   ]
  },
  {
   "cell_type": "markdown",
   "metadata": {
    "id": "dJh46vA5EXlf"
   },
   "source": [
    "### Figure 6: Inward-Outward FDI balance ratio by Member State\n",
    "\n",
    "Add custom legend, title."
   ]
  },
  {
   "cell_type": "code",
   "execution_count": null,
   "metadata": {
    "colab": {
     "base_uri": "https://localhost:8080/",
     "height": 497
    },
    "id": "iJOzlfKTEXlk",
    "outputId": "e79edef5-b021-4251-9066-e61fb70eb64b"
   },
   "outputs": [],
   "source": [
    "fig, ax = plt.subplots(figsize=(15, 8))\n",
    "hcatbar(df6['balance'], df6['geo'], -1.20, 1, ['crimson', 'royalblue'], 8,0.4)\n",
    "ax.set_ylim(-0.75,28.5)\n",
    "ax.set_xlim(-1.3,0.9)\n",
    "ax.set_title('Inward - Outward FDI balance ratio by Member State, {}'.format(par_df5_gdp['time']),\n",
    "             fontsize=15,fontweight='bold',y=1.00, x=0.3)\n",
    "plt.show()"
   ]
  },
  {
   "cell_type": "markdown",
   "metadata": {
    "id": "PFl0_bxQEXls"
   },
   "source": [
    "Request and wrangle data so that it is usable, by pivoting dataframe and calculating quantities of interest to be graphed"
   ]
  },
  {
   "cell_type": "code",
   "execution_count": null,
   "metadata": {
    "id": "fq066TRVEXlu"
   },
   "outputs": [],
   "source": [
    "par_df7={\n",
    "    'precision':1,\n",
    "    'geo':'EU28',\n",
    "    'indic_sb':'V16110',\n",
    "    'time':['2013','2014','2015','2016'],\n",
    "    'c_ctrl':['EXT_EU28','WORLD'],\n",
    "    'nace_r2':'B-N_S95_X_K'\n",
    "}\n",
    "\n",
    "df7 = client.get_dataset('fats_g1a_08', params=par_df7).to_dataframe()\n",
    "df7 = (df7\n",
    "       .pivot(index='time', columns='c_ctrl', values='values')\n",
    "       .reset_index()\n",
    "      )\n",
    "df7['perc'] = df7['EXT_EU28'].div(df7['WORLD']).apply(lambda x : round(x*100,2))\n",
    "# df7['perc'] = round(((df7['EXT_EU28']/df7['WORLD'])*100),2)"
   ]
  },
  {
   "cell_type": "markdown",
   "metadata": {
    "id": "5g6qyzcpEXl3"
   },
   "source": [
    "## Employment\n",
    "\n",
    "### Figure 7: Employment shares of enterprises controlled from outside the EU-28 in total EU employment by year\n",
    "\n",
    "Add custom legend, title, insert percentage labels above the bars."
   ]
  },
  {
   "cell_type": "code",
   "execution_count": null,
   "metadata": {
    "colab": {
     "base_uri": "https://localhost:8080/",
     "height": 297
    },
    "id": "CTlQ6oOHEXl6",
    "outputId": "6d93ccdb-91f3-4984-b75d-41ccd202aee6"
   },
   "outputs": [],
   "source": [
    "fig, ax = plt.subplots(figsize=(15, 4))\n",
    "subcategorybar(df7['time'], [df7['perc']], 0,8,1, ['royalblue'],0)\n",
    "ax.set_title('Employment shares of enterprises controlled from outside the {} in total EU employment by year, {}-{}'\n",
    "             .format(par_df7['geo'],min(par_df7['time']),max(par_df7['time'])),\n",
    "             fontsize=15,fontweight='bold',y=1.08, x=0.55)\n",
    "ax.spines['left'].set_visible(False)\n",
    "ax.tick_params(axis='y', which='major', length=0)\n",
    "ax.set_yticklabels('', minor=False)\n",
    "\n",
    "for p in ax.patches: \n",
    "  ax.annotate(p.get_height(), (p.get_x()+p.get_width()/2., p.get_height()), \n",
    "              ha='center', va='center', xytext=(0, 10), textcoords='offset points')\n",
    "\n",
    "plt.show()"
   ]
  },
  {
   "cell_type": "markdown",
   "metadata": {
    "id": "nxGaeZNdEXl-"
   },
   "source": [
    "Request and wrangle data so that it is usable, by pivoting dataframe and calculating quantities of interest to be graphed, mapping countrynames and sorting"
   ]
  },
  {
   "cell_type": "code",
   "execution_count": null,
   "metadata": {
    "id": "-eHNWOIuEXmC"
   },
   "outputs": [],
   "source": [
    "par_df8 = {\n",
    "    'precision':1,\n",
    "    'geo':countries_abbr,\n",
    "    'indic_sb':'V16110',\n",
    "    'time':'2016',\n",
    "    'c_ctrl':['WRL_X_REP','WORLD'],\n",
    "    'nace_r2':'B-N_S95_X_K'\n",
    "}\n",
    "\n",
    "df8 = client.get_dataset('fats_g1a_08', params=par_df8).to_dataframe()\n",
    "df8 = (df8\n",
    "       .pivot(index='geo', columns='c_ctrl', values='values')\n",
    "       .reset_index()\n",
    "      )\n",
    "df8['perc'] = (df8['WRL_X_REP']\n",
    "               .div(df8['WORLD'])\n",
    "               .apply(lambda x: x*100)\n",
    "              )\n",
    "#df8['perc'] = (df8['WRL_X_REP']/df8['WORLD'])*100\n",
    "df8['geo'] = df8['geo'].map(countries_names)\n",
    "df8 = (df8\n",
    "       .sort_values(by='perc', ascending=True)\n",
    "       .reset_index(drop=True)\n",
    "      )"
   ]
  },
  {
   "cell_type": "markdown",
   "metadata": {
    "id": "laSKWnHbEXmP"
   },
   "source": [
    "### Figure 8: Employment shares of foreign controlled enterprises (world except reporting country) in total domestic employment by country\n",
    "\n",
    "Add custom legend, title, color EU28 bar blue."
   ]
  },
  {
   "cell_type": "code",
   "execution_count": null,
   "metadata": {
    "colab": {
     "base_uri": "https://localhost:8080/",
     "height": 536
    },
    "id": "MVZ1wL4iEXmT",
    "outputId": "f303e8c9-e7ee-4af7-b795-4ab52d840739"
   },
   "outputs": [],
   "source": [
    "fig, ax = plt.subplots(figsize=(15, 8))\n",
    "hcatbar(df8['perc'], df8['geo'], 0, 50, 'crimson', 8,0.4)\n",
    "ax.set_ylim(-0.75,28.5)\n",
    "ax.set_title('Employment shares of foreign controlled enterprises (world except \\nreporting country) in total domestic employment by country, {}' \n",
    "             .format(par_df8['time']),\n",
    "             fontsize=15,fontweight='bold',y=1.05, x=-0.06, loc='left')\n",
    "ax.spines['left'].set_visible(True)\n",
    "ax.get_children()[11].set_color('royalblue')\n",
    "plt.show()"
   ]
  },
  {
   "cell_type": "code",
   "execution_count": null,
   "metadata": {
    "id": "BJOxrQSfEXmf"
   },
   "outputs": [],
   "source": []
  }
 ],
 "metadata": {
  "colab": {
   "name": "Copy of Copy of trade_investment_employment_globalisation_py.ipynb",
   "provenance": []
  },
  "kernelspec": {
   "display_name": "Python 3 (ipykernel)",
   "language": "python",
   "name": "python3"
  },
  "language_info": {
   "codemirror_mode": {
    "name": "ipython",
    "version": 3
   },
   "file_extension": ".py",
   "mimetype": "text/x-python",
   "name": "python",
   "nbconvert_exporter": "python",
   "pygments_lexer": "ipython3",
   "version": "3.7.10"
  }
 },
 "nbformat": 4,
 "nbformat_minor": 4
}

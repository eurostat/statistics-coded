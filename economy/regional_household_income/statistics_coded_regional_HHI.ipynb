{
    "cells": [
        {
            "cell_type": "markdown",
            "metadata": {},
            "source": "\n"
        },
        {
            "cell_type": "code",
            "execution_count": null,
            "metadata": {},
            "outputs": [],
            "source": [
                "knitr::opts_chunk$set(echo = TRUE,\n",
                "                      message = FALSE,\n",
                "                      warning = FALSE)\n"
            ]
        },
        {
            "cell_type": "markdown",
            "metadata": {},
            "source": [
                "This file shows the code to reproduce similar maps and charts as those included in the following Statistics Explained article <https://ec.europa.eu/eurostat/statistics-explained/index.php?title=Regional_household_income_statistics>.\n",
                "\n"
            ]
        },
        {
            "cell_type": "code",
            "execution_count": null,
            "metadata": {},
            "outputs": [],
            "source": [
                "library(eurostat)\n",
                "library(tidyverse)\n",
                "library(sf)\n",
                "library(tmap)\n",
                "library(plotly)\n",
                "library(hrbrthemes)\n",
                "library(Hmisc)\n"
            ]
        },
        {
            "cell_type": "markdown",
            "metadata": {},
            "source": "\n"
        },
        {
            "cell_type": "code",
            "execution_count": null,
            "metadata": {},
            "outputs": [],
            "source": [
                "hh2 <- get_eurostat(\"nama_10r_2hhinc\", time_format = \"num\")\n",
                "gdp2 <- get_eurostat(\"nama_10r_2gdp\", time_format = \"num\")\n",
                "pop3 <- get_eurostat(\"nama_10r_3popgdp\", time_format = \"num\")\n",
                "map <- get_eurostat_geospatial(\n",
                "  output_class = \"sf\",\n",
                "  resolution = \"60\",\n",
                "  nuts_level = \"2\",\n",
                "  year = \"2016\"\n",
                ")\n"
            ]
        },
        {
            "cell_type": "markdown",
            "metadata": {},
            "source": [
                "### Map 1: Household primary income per capita as % EU27 average in 2018\n",
                "\n"
            ]
        },
        {
            "cell_type": "code",
            "execution_count": null,
            "metadata": {},
            "outputs": [],
            "source": [
                "temp <- hh2 %>%\n",
                "  filter(time == 2018 & na_item == \"B5N\" & unit == \"PPS_EU27_2020_HAB\") %>%\n",
                "  select(geo, values) %>%\n",
                "  rename(b5n = \"values\") %>%\n",
                "  mutate(eu_index = round(b5n * 100 / b5n[geo == \"EU27_2020\"], 1))\n",
                "\n",
                "sf <- left_join(map, temp)\n",
                "\n",
                "tmap_mode(\"view\")\n",
                "sf %>%\n",
                "  filter(CNTR_CODE != \"UK\") %>%\n",
                "  tm_shape() +\n",
                "  tm_fill(\"eu_index\",\n",
                "    popup.vars = c(\"eu_index\", \"NUTS_ID\", \"NUTS_NAME\"),\n",
                "    palette = \"RdPu\", # similar to Economy and Finance\n",
                "    breaks = c(29, 63, 85, 103, 124, 192),\n",
                "    title = \"Net primary income per capita in PPS as % of EU average in 2018 \"\n",
                "  ) +\n",
                "  tm_borders()\n"
            ]
        },
        {
            "cell_type": "markdown",
            "metadata": {},
            "source": [
                "### Map 2: Household primary income as % of GDP, 2018\n",
                "\n"
            ]
        },
        {
            "cell_type": "code",
            "execution_count": null,
            "metadata": {},
            "outputs": [],
            "source": [
                "hh2w <- hh2 %>%\n",
                "  filter(time == 2018 & na_item == \"B5N\" & unit == \"MIO_EUR\") %>%\n",
                "  select(geo, values) %>%\n",
                "  rename(b5n = \"values\")\n",
                "\n",
                "gdp2w <- gdp2 %>%\n",
                "  filter(time == 2018 & unit == \"MIO_EUR\") %>%\n",
                "  select(geo, values) %>%\n",
                "  rename(gdp = \"values\")\n",
                "\n",
                "temp <- full_join(hh2w, gdp2w) %>%\n",
                "  mutate(b5n_gdp = round(b5n * 100 / gdp, digits = 1))\n",
                "\n",
                "sf <- left_join(map, temp)\n",
                "\n",
                "tmap_mode(\"view\")\n",
                "sf %>%\n",
                "  filter(CNTR_CODE != \"UK\") %>%\n",
                "  tm_shape() +\n",
                "  tm_fill(\"b5n_gdp\",\n",
                "    popup.vars = c(\"b5n_gdp\", \"NUTS_ID\", \"NUTS_NAME\"),\n",
                "    palette = \"RdPu\",\n",
                "    breaks =c(26, 59, 64, 68, 73, 100),\n",
                "    title = \"Ratio of primary income to GDP in 2018 in MEUR\"\n",
                "  ) +\n",
                "  tm_borders()\n"
            ]
        },
        {
            "cell_type": "markdown",
            "metadata": {},
            "source": [
                "### Chart 1: Components of primary income\n",
                "\n"
            ]
        },
        {
            "cell_type": "code",
            "execution_count": null,
            "metadata": {},
            "outputs": [],
            "source": [
                "temp <- hh2 %>%\n",
                "  unite(sto, c(direct, na_item)) %>%\n",
                "  filter(time == \"2018\" & unit == \"MIO_EUR\" & !geo %in% c(\"ESZZ\", \"FRZZ\")) %>%\n",
                "  pivot_wider(\n",
                "    names_from = sto,\n",
                "    values_from = values\n",
                "  ) %>%\n",
                "  select(geo, BAL_B5N, RECV_D1, BAL_B2A3N, RECV_D4, PAID_D4) %>%\n",
                "  mutate(BAL_D4 = RECV_D4 - PAID_D4) %>%\n",
                "  select(-RECV_D4, -PAID_D4) %>%\n",
                "  mutate(\n",
                "    D1 = round(RECV_D1 * 100 / BAL_B5N, 1),\n",
                "    B2A3N = round(BAL_B2A3N * 100 / BAL_B5N, 1),\n",
                "    D4 = round(BAL_D4 * 100 / BAL_B5N, 1)\n",
                "  ) %>%\n",
                "  mutate(\n",
                "    country = str_sub(geo, 1, 2),\n",
                "    NUTS = str_length(geo) - 2\n",
                "  ) %>%\n",
                "  filter(NUTS == \"2\" & country != \"UK\") %>%\n",
                "  select(country, geo, D1, B2A3N, D4) %>%\n",
                "  pivot_longer(\n",
                "    cols = c(\"D1\", \"B2A3N\", \"D4\"),\n",
                "    names_to = \"Shares\",\n",
                "    values_to = \"values\"\n",
                "  )\n",
                "\n",
                "p <- ggplot(temp, aes(values, fct_rev(country), colour = Shares, label = geo)) +\n",
                "  geom_point() +\n",
                "  scale_colour_manual(values = c(\"#B82370\", \"#213A9E\", \"#ABED79\")) +\n",
                "  theme_ipsum_rc() +\n",
                "  xlab(\"Share, %\") +\n",
                "  ylab(\"Country\") +\n",
                "  labs(title = \"Component shares of Net primary income, 2018\") +\n",
                "  theme(legend.title = element_blank())\n",
                "\n",
                "ggplotly(p)\n"
            ]
        },
        {
            "cell_type": "markdown",
            "metadata": {},
            "source": [
                "### Chart 2: Standard Deviation EU primary income\n",
                "\n"
            ]
        },
        {
            "cell_type": "code",
            "execution_count": null,
            "metadata": {},
            "outputs": [],
            "source": [
                "hh2w <- hh2 %>%\n",
                "  filter(time >= 2000 & time <= 2018 &\n",
                "    na_item == \"B5N\" &\n",
                "    unit == \"PPS_EU27_2020_HAB\" &\n",
                "    !geo %in% c(\"ESZZ\", \"FRZZ\")) %>%\n",
                "  select(geo, time, values) %>%\n",
                "  group_by(time) %>%\n",
                "  mutate(\n",
                "    eu_index = round(values * 100 / values[geo == \"EU27_2020\"], 1),\n",
                "    NUTS = str_length(geo) - 2\n",
                "  ) %>%\n",
                "  filter(NUTS == \"2\")\n",
                "\n",
                "std <- hh2w %>%\n",
                "  group_by(time) %>%\n",
                "  summarise(sd = sd(eu_index))\n",
                "\n",
                "ggplot(std, aes(time, sd)) +\n",
                "  geom_line(size = 1, colour = \"steelblue\") +\n",
                "  xlab(\"\") +\n",
                "  ylab(\"\") +\n",
                "  labs(\n",
                "    title = \"Standard deviation of regional net primary income in PPS\",\n",
                "    subtitle = \"in PPS as % EU average\",\n",
                "    caption = \"Source: Eurostat (online data code: nama_10r_2hhinc)\"\n",
                "  ) +\n",
                "  coord_fixed(ylim = c(0, 40), ratio = 0.2) +\n",
                "  theme_ipsum_rc()\n"
            ]
        },
        {
            "cell_type": "markdown",
            "metadata": {},
            "source": [
                "### Chart 3: Comparison 2010-2018\n",
                "\n"
            ]
        },
        {
            "cell_type": "code",
            "execution_count": null,
            "metadata": {},
            "outputs": [],
            "source": [
                "temp <- hh2w %>%\n",
                "  filter(time %in% c(\"2010\", \"2018\")) %>%\n",
                "  select(-values) %>%\n",
                "  pivot_wider(\n",
                "    names_from = time,\n",
                "    values_from = eu_index,\n",
                "    names_prefix = \"y\"\n",
                "  ) %>%\n",
                "  mutate(\n",
                "    country = str_sub(geo, 1, 2),\n",
                "    NUTS = str_length(geo) - 2\n",
                "  ) %>%\n",
                "  filter(NUTS == \"2\" & country != \"UK\") %>% \n",
                "  mutate(group= case_when(\n",
                "    country == \"DE\" ~ \"DE\",\n",
                "    country ==\"FR\" ~ \"FR\",\n",
                "    country %in% c(\"BG\", \"HR\", \"CZ\", \"LT\",\"LV\", \"HU\", \"PL\", \"RO\", \"SK\") ~ \"BG, HR, LV, HU, PL, RO, SK\",\n",
                "    country %in% c(\"EL\", \"ES\", \"IT\", \"PT\") ~ \"EL, ES, IT, PT\",\n",
                "    country %in% c(\"AT\", \"BE\",  \"CY\", \"DK\", \"EE\", \"FI\", \"IE\", \"LU\", \"NL\", \"NO\", \"SE\", \"SI\") ~\"Other countries\"\n",
                "  ))\n",
                "\n",
                "\n",
                "p <- ggplot(temp, aes(y2010, y2018, colour = group, group = geo)) +\n",
                "  geom_point() +\n",
                "  geom_abline(slope = 1, intercept = 0) +\n",
                "  xlab(\"2010\") +\n",
                "  ylab(\"2018\") +\n",
                "  theme_ipsum_rc() +\n",
                "  scale_colour_ipsum()+\n",
                "  theme(legend.title = element_blank())+\n",
                "  ggtitle(\"Net primary income per capita in PPS as % EU, 2010 and 2018\")\n",
                "\n",
                "ggplotly(p)\n"
            ]
        },
        {
            "cell_type": "markdown",
            "metadata": {},
            "source": [
                "### Chart 4: Regional differences by country\n",
                "\n"
            ]
        },
        {
            "cell_type": "code",
            "execution_count": null,
            "metadata": {},
            "outputs": [],
            "source": [
                "temp <- hh2 %>%\n",
                "  unite(na_item, c(na_item, direct)) %>%\n",
                "  filter(unit == \"MIO_NAC\" & time == \"2018\" & na_item %in% c(\"B5N_BAL\", \"B6N_BAL\")) %>%\n",
                "  pivot_wider(\n",
                "    names_from = na_item,\n",
                "    values_from = values\n",
                "  ) %>%\n",
                "  mutate(\n",
                "    country = str_sub(geo, 1, 2),\n",
                "    NUTS = str_length(geo) - 2\n",
                "  ) %>%\n",
                "  filter(NUTS %in% c(\"0\", \"2\") & country != \"UK\") %>%\n",
                "  select(geo, country, NUTS, time, B5N_BAL, B6N_BAL) %>%\n",
                "  pivot_longer(\n",
                "    cols = c(\"B5N_BAL\", \"B6N_BAL\"),\n",
                "    names_to = \"na_item\",\n",
                "    values_to = \"values\"\n",
                "  )\n",
                "\n",
                "pop <- pop3 %>%\n",
                "  select(-unit) %>%\n",
                "  rename(pop = values)\n",
                "\n",
                "temp <- left_join(temp, pop) %>%\n",
                "  mutate(percapita = values * 1000 / pop) %>%\n",
                "  droplevels() %>%\n",
                "  group_by(country, na_item) %>%\n",
                "  mutate(nat_percapita = percapita * 100 / percapita[NUTS == \"0\"]) %>%\n",
                "  filter(NUTS == \"2\" & !geo %in% c(\"ESZZ\", \"FRZZ\") & !country %in% c(\"EE\", \"CY\", \"MT\", \"LV\", \"LT\", \"LU\", \"HR\", \"SI\")) %>%\n",
                "  summarise(wsd = sqrt(wtd.var(nat_percapita, pop, na.rm = TRUE))) %>%\n",
                "  pivot_wider(\n",
                "    names_from = na_item,\n",
                "    values_from = wsd\n",
                "  )\n",
                "\n",
                "ggplot(temp) +\n",
                "  geom_point(aes(B5N_BAL, reorder(country, B5N_BAL)), size = 5, colour = \"#B82370\") +\n",
                "  geom_point(aes(B6N_BAL, reorder(country, B5N_BAL)), size = 5, colour = \"#213A9E\") +\n",
                "  geom_segment(aes(x = B6N_BAL, xend = B5N_BAL, y = country, yend = country), size = 1.5, colour = \"gray\") +\n",
                "  theme_ipsum_rc() +\n",
                "  #  theme(panel.background = element_rect(fill = \"white\"))+\n",
                "  xlab(\"\") +\n",
                "  ylab(\"\") +\n",
                "  ggtitle(\"Standard deviation of regional per capita net primary income and net disposable income\",\n",
                "    subtitle = \"based on an index with national average = 100 and weighted by population\"\n",
                "  )\n"
            ]
        },
        {
            "cell_type": "markdown",
            "metadata": {},
            "source": [
                "### Map 3: Ratio of Disposable Income to Primary Income\n",
                "\n"
            ]
        },
        {
            "cell_type": "code",
            "execution_count": null,
            "metadata": {},
            "outputs": [],
            "source": [
                "temp <- hh2 %>%\n",
                "  unite(na_item, c(na_item, direct)) %>%\n",
                "  filter(unit == \"MIO_NAC\" & time == \"2018\" & na_item %in% c(\"B5N_BAL\", \"B6N_BAL\")) %>%\n",
                "  pivot_wider(\n",
                "    names_from = na_item,\n",
                "    values_from = values\n",
                "  ) %>%\n",
                "  mutate(\n",
                "    country = str_sub(geo, 1, 2),\n",
                "    NUTS = str_length(geo) - 2\n",
                "  ) %>%\n",
                "  filter(NUTS %in% c(\"0\", \"2\") & country != \"UK\") %>%\n",
                "  select(geo, country, NUTS, time, B5N_BAL, B6N_BAL) %>%\n",
                "  pivot_longer(\n",
                "    cols = c(\"B5N_BAL\", \"B6N_BAL\"),\n",
                "    names_to = \"na_item\",\n",
                "    values_to = \"values\"\n",
                "  )\n",
                "\n",
                "pop <- pop3 %>%\n",
                "  select(-unit) %>%\n",
                "  rename(pop = values)\n",
                "\n",
                "temp <- left_join(temp, pop) %>%\n",
                "  mutate(percapita = values * 1000 / pop) %>%\n",
                "  droplevels() %>%\n",
                "  group_by(country, na_item) %>%\n",
                "  mutate(nat_percapita = percapita * 100 / percapita[NUTS == \"0\"]) %>%\n",
                "  filter(NUTS == \"2\" & !geo %in% c(\"ESZZ\", \"FRZZ\")) %>%\n",
                "  select(geo, na_item, nat_percapita) %>%\n",
                "  pivot_wider(\n",
                "    names_from = na_item,\n",
                "    values_from = nat_percapita\n",
                "  ) %>%\n",
                "  mutate(ratio = round(B6N_BAL * 100 / B5N_BAL, 1))\n",
                "\n",
                "sf <- left_join(map, temp)\n",
                "\n",
                "\n",
                "tmap_mode(\"view\")\n",
                "sf %>%\n",
                "  tm_shape() +\n",
                "  tm_fill(\"ratio\",\n",
                "    popup.vars = c(\"ratio\", \"NUTS_ID\", \"NUTS_NAME\"),\n",
                "     breaks =c(78, 98, 102, 105, 107, 125),\n",
                "     palette = \"RdPu\",\n",
                "    title = \"Ratio Disposable Income /Primary income\"\n",
                "  ) +\n",
                "  tm_borders()\n"
            ]
        },
        {
            "cell_type": "markdown",
            "metadata": {},
            "source": "\n"
        }
    ],
    "metadata": {
        "anaconda-cloud": "",
        "kernelspec": {
            "display_name": "R",
            "langauge": "R",
            "name": "ir"
        },
        "language_info": {
            "codemirror_mode": "r",
            "file_extension": ".r",
            "mimetype": "text/x-r-source",
            "name": "R",
            "pygments_lexer": "r",
            "version": "3.4.1"
        }
    },
    "nbformat": 4,
    "nbformat_minor": 1
}

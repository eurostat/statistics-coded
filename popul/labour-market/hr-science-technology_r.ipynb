{
 "cells": [
  {
   "cell_type": "markdown",
   "id": "emotional-latitude",
   "metadata": {},
   "source": [
    "# Human resources in science and technologies\n",
    " \n",
    " partial reproduction of the [Statistics Explained](https://ec.europa.eu/eurostat/statistics-explained/index.php?title=Human_resources_in_science_and_technology&oldid=395960) article"
   ]
  },
  {
   "cell_type": "code",
   "execution_count": 1,
   "id": "liable-illinois",
   "metadata": {},
   "outputs": [],
   "source": [
    "datum<-Sys.Date()"
   ]
  },
  {
   "cell_type": "markdown",
   "id": "concerned-rebate",
   "metadata": {
    "variables": {
     "datum": "2021-06-24"
    }
   },
   "source": [
    "Last modification: {{datum}}"
   ]
  },
  {
   "cell_type": "code",
   "execution_count": 2,
   "id": "requested-christmas",
   "metadata": {},
   "outputs": [],
   "source": [
    "# CONFIGURATION VALUES\n",
    "\n",
    "tweet_year<-2020\n",
    "tweet_age<-'25 to 64'\n"
   ]
  },
  {
   "cell_type": "code",
   "execution_count": 3,
   "id": "golden-extra",
   "metadata": {},
   "outputs": [
    {
     "name": "stderr",
     "output_type": "stream",
     "text": [
      "restatapi: - config file with the API version 1 loaded from GitHub (the 'current' API version number is 1).\n",
      "           - 4 from the 64 cores are used for parallel computing, can be changed with 'options(restatapi_cores=...)'\n",
      "           - 'auto' method will be used for file download, can be changed with 'options(restatapi_dmethod=...)'\n",
      "           - the Table of contents (TOC) was not pre-loaded into the deafult cache ('.restatapi_env').\n",
      "\n"
     ]
    }
   ],
   "source": [
    "# CALCULATION\n",
    "library(restatapi)\n",
    "dsd<-get_eurostat_dsd(\"hrst_st_nocc\")\n",
    "tweet_value<-round(get_eurostat_data(\"hrst_st_nocc\",date_filter=tweet_year,filters=c(\"HRSTO$\",\"EU27_2020\",\"THS\",\"TOTAL\",gsub(\" to \",\"-\",tweet_age)),exact_match=F)$values/1000)\n"
   ]
  },
  {
   "cell_type": "markdown",
   "id": "lucky-norwegian",
   "metadata": {
    "variables": {
     "tweet_age": "'25 to 64'",
     "tweet_value": "67",
     "tweet_year": "2020"
    }
   },
   "source": [
    "# Generated text\n",
    "\n",
    "**Tweet:** \n",
    "In {{tweet_year}}, over {{tweet_value}} million people aged from {{tweet_age}} were employed in science and technology (HRSTO) in the EU. \n",
    "\n",
    "This article provides information on statistics [on human resources in science and technology (HRST)](https://ec.europa.eu/eurostat/statistics-explained/index.php?title=Glossary:Human_resources_in_science_and_technology_(HRST)) which help us to better understand the demand for and the supply of people with strong qualifications in science and technology. It describes the current stock of HRST in the [European Union](https://ec.europa.eu/eurostat/statistics-explained/index.php?title=Glossary:European_Union_(EU)), the [EFTA](https://ec.europa.eu/eurostat/statistics-explained/index.php?title=Glossary:European_Free_Trade_Association_(EFTA)) countries and the [candidate countries](https://ec.europa.eu/eurostat/statistics-explained/index.php?title=Glossary:Candidate_countries) and gives information on the current and future supply of highly skilled people from universities and other specialised education institutions in the HRST field.\n",
    "\n",
    "Investment in research, development, education and skills is a key policy area for the EU as it is essential for economic growth and for the development of a [knowledge-based economy](https://ec.europa.eu/eurostat/statistics-explained/index.php?title=Glossary:Knowledge-based_economy). There is, therefore, a great need to measure and analyse the most highly skilled part of the [labour force](https://ec.europa.eu/eurostat/statistics-explained/index.php?title=Glossary:Labour_force), both within the EU and internationally. "
   ]
  },
  {
   "cell_type": "code",
   "execution_count": 9,
   "id": "controversial-uganda",
   "metadata": {},
   "outputs": [
    {
     "data": {
      "text/markdown": [
       "<b>Tweet:</b> In 2020, over 67 million people aged from 25 to 64 were employed in science and technology (HRSTO) in the EU."
      ]
     },
     "metadata": {},
     "output_type": "display_data"
    }
   ],
   "source": [
    "IRdisplay::display_markdown(paste0(\"<b>Tweet:</b> In \",tweet_year,\", over \",tweet_value,\" million people aged from \",tweet_age,\" were employed in science and technology (HRSTO) in the EU.\"))"
   ]
  }
 ],
 "metadata": {
  "kernelspec": {
   "display_name": "R",
   "language": "R",
   "name": "ir"
  },
  "language_info": {
   "codemirror_mode": "r",
   "file_extension": ".r",
   "mimetype": "text/x-r-source",
   "name": "R",
   "pygments_lexer": "r",
   "version": "4.0.5"
  }
 },
 "nbformat": 4,
 "nbformat_minor": 5
}

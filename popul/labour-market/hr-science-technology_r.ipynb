{
 "cells": [
  {
   "cell_type": "markdown",
   "id": "emotional-latitude",
   "metadata": {},
   "source": [
    "# Human resources in science and technologies\n",
    " \n",
    " partial reproduction of the [Statistics Explained](https://ec.europa.eu/eurostat/statistics-explained/index.php?title=Human_resources_in_science_and_technology&oldid=395960) article"
   ]
  },
  {
   "cell_type": "code",
   "execution_count": 1,
   "id": "liable-illinois",
   "metadata": {},
   "outputs": [],
   "source": [
    "datum<-Sys.Date()"
   ]
  },
  {
   "cell_type": "markdown",
   "id": "concerned-rebate",
   "metadata": {
    "variables": {
     "datum": "2021-06-25"
    }
   },
   "source": [
    "Last modification: {{datum}}"
   ]
  },
  {
   "cell_type": "code",
   "execution_count": 2,
   "id": "neural-airfare",
   "metadata": {},
   "outputs": [],
   "source": [
    "# CONFIGURATION VALUES\n",
    "\n",
    "year<-2020\n",
    "age_group1<-'25 to 64' \n",
    "age_group2<-'15 to 74'\n",
    "top<-3\n",
    "threshold<-2/3"
   ]
  },
  {
   "cell_type": "code",
   "execution_count": null,
   "id": "laughing-martial",
   "metadata": {},
   "outputs": [
    {
     "name": "stderr",
     "output_type": "stream",
     "text": [
      "restatapi: - config file with the API version 1 loaded from GitHub (the 'current' API version number is 1).\n",
      "           - 4 from the 64 cores are used for parallel computing, can be changed with 'options(restatapi_cores=...)'\n",
      "           - 'auto' method will be used for file download, can be changed with 'options(restatapi_dmethod=...)'\n",
      "           - the Table of contents (TOC) was not pre-loaded into the deafult cache ('.restatapi_env').\n",
      "\n"
     ]
    }
   ],
   "source": [
    "# CALCULATION\n",
    "library(restatapi)\n",
    "library(data.table)\n",
    "eu_cc<-get(\"cc\",envir=.restatapi_env)$EU27_2020\n",
    "# get_eurostat_dsd(\"hrst_st_nocc\")\n",
    "value0<-get_eurostat_data(\"hrst_st_nocc\",date_filter=year,filters=c(\"HRSTO$\",\"EU27_2020\",\"THS\",\"TOTAL\",gsub(\" to \",\"-\",age_group1)),exact_match=F)$values\n",
    "value1<-get_eurostat_data(\"hrst_st_nocc\",date_filter=year,filters=c(\"HRSTO$\",\"EU27_2020\",\"THS\",\"TOTAL\",gsub(\" to \",\"-\",age_group2)),exact_match=F)$values\n",
    "value2<-(get_eurostat_data(\"hrst_st_nocc\",date_filter=year,filters=c(\"HRSTO$\",\"EU27_2020\",\"THS\",\"TOTAL\",gsub(\" to \",\"-\",age_group2)),exact_match=F)$values/get_eurostat_data(\"hrst_st_nocc\",date_filter=(year-1),filters=c(\"HRSTO$\",\"EU27_2020\",\"THS\",\"TOTAL\",gsub(\" to \",\"-\",age_group2)),exact_match=F)$values-1)*100\n",
    "value2_text<-if (value2>0) {'increase'} else {'decrease'}\n",
    "value3<-(get_eurostat_data(\"hrst_st_nocc\",date_filter=year,filters=c(\"HRSTO$\",\"EU27_2020\",\"THS\",\"TOTAL\",gsub(\" to \",\"-\",age_group1)),exact_match=F)$values/get_eurostat_data(\"hrst_st_nocc\",date_filter=(year-1),filters=c(\"HRSTO$\",\"EU27_2020\",\"THS\",\"TOTAL\",gsub(\" to \",\"-\",age_group1)),exact_match=F)$values-1)*100\n",
    "value3_text<-if (value3>0) {'increase'} else {'decrease'}\n",
    "value4<-get_eurostat_data(\"hrst_st_nocc\",date_filter=year,filters=c(\"HRSTO$\",\"EU27_2020\",\"^prof\",\"^perc\",gsub(\" to \",\"-\",age_group1)),exact_match=F,ignore.case=T)$values\n",
    "value5<-get_eurostat_data(\"hrst_st_nocc\",date_filter=year,filters=c(\"HRSTO$\",\"EU27_2020\",\"^tech\",\"^perc\",gsub(\" to \",\"-\",age_group1)),exact_match=F,ignore.case=T)$values\n",
    "value6<-setorder(get_eurostat_data(\"hrst_st_nocc\",date_filter=year,filters=list(geo=eu_cc,isco08=\"oc2\",category=\"hrsto\",unit=\"pc\",age=gsub(\" to \",\"-\",age_group1)),exact_match=F,name=F,ignore.case=T,label=T,verbose=F,stringsAsFactors=F),-values)[]\n",
    "value6$geo<-gsub(\" \\\\(.*\\\\)\",\"\",value6$geo)\n",
    "value6_text<-gsub(\"(.*),\",\"\\\\1 and\",lapply(value6[1:top,.(txt=paste0(geo,\" (\",format(values,1),\" %)\"))],paste,collapse=\", \"),perl=T)\n",
    "value7<-value6[values>threshold*100 & seq_len(.N)>3]\n",
    "value7_text<-gsub(\"(.*),\",\"\\\\1 and\",lapply(value7[,.(txt=paste0(geo,\" (\",format(values,1),\" %)\"))],paste,collapse=\", \"),perl=T)\n",
    "\n"
   ]
  },
  {
   "cell_type": "code",
   "execution_count": null,
   "id": "prospective-payday",
   "metadata": {},
   "outputs": [],
   "source": [
    "#dsd<-get_eurostat_dsd(\"hrst_st_nocc\")\n",
    "#dsd\n"
   ]
  },
  {
   "cell_type": "markdown",
   "id": "corporate-integral",
   "metadata": {
    "variables": {
     " message(value2_text) ": {},
     " message(value3_text) ": {},
     "abs(round(value2,1))": {},
     "abs(round(value3,1))": {},
     "message(age_group1)": {},
     "message(age_group2)": {},
     "message(value6_text)": {},
     "message(value7_text)": {},
     "round(value0/1000)": {},
     "round(value0/1000,1)": {},
     "round(value1/1000,1)": {},
     "value4": {},
     "value5": {},
     "year": {},
     "year-1": {}
    }
   },
   "source": [
    "### markdown version\n",
    "\n",
    "**Tweet:** \n",
    "In {{year}}, over ~~67~~ {{round(value0/1000)}} million people aged from {{message(age_group1)}} were employed in science and technology (HRSTO) in the EU. \n",
    "\n",
    "This article provides information on statistics [on human resources in science and technology (HRST)](https://ec.europa.eu/eurostat/statistics-explained/index.php?title=Glossary:Human_resources_in_science_and_technology_(HRST)) which help us to better understand the demand for and the supply of people with strong qualifications in science and technology. It describes the current stock of HRST in the [European Union](https://ec.europa.eu/eurostat/statistics-explained/index.php?title=Glossary:European_Union_(EU)), the [EFTA](https://ec.europa.eu/eurostat/statistics-explained/index.php?title=Glossary:European_Free_Trade_Association_(EFTA)) countries and the [candidate countries](https://ec.europa.eu/eurostat/statistics-explained/index.php?title=Glossary:Candidate_countries) and gives information on the current and future supply of highly skilled people from universities and other specialised education institutions in the HRST field.\n",
    "\n",
    "Investment in research, development, education and skills is a key policy area for the EU as it is essential for economic growth and for the development of a [knowledge-based economy](https://ec.europa.eu/eurostat/statistics-explained/index.php?title=Glossary:Knowledge-based_economy). There is, therefore, a great need to measure and analyse the most highly skilled part of the [labour force](https://ec.europa.eu/eurostat/statistics-explained/index.php?title=Glossary:Labour_force), both within the EU and internationally. \n",
    "\n",
    "### Professionals and technicians employed in science and technology occupations\n",
    "\n",
    "In {{year}}, ~~72.9~~ {{round(value1/1000,1)}} million people in the EU aged from {{message(age_group2)}} were employed in science and technology (and therefore considered as human resources in science and technology by occupation — HRSTO (see Figure 5 below)), an {{ message(value2_text) }} of ~~1.7~~ {{abs(round(value2,1))}} % compared with {{year-1}}.\n",
    "\n",
    "Within this ~~72.9~~ {{round(value1/1000,1)}} million, ~~67.7~~ {{round(value0/1000,1)}} million people were in the {{message(age_group1)}} age group, an {{ message(value3_text) }} of ~~1.9~~ {{abs(round(value3,1))}} % compared with {{year-1}}. From this broad group ~~57.0~~ {{value4}} % were ['professionals'](https://ec.europa.eu/eurostat/statistics-explained/index.php?title=Glossary:Professionals_group) (22.6% of ‘Scientists and Engineers’ and 34.4% of ‘Other professionals (other than SE)’) and ~~43.0~~ {{value5}} % were [‘technicians’](https://ec.europa.eu/eurostat/statistics-explained/index.php?title=Glossary:Technicians_and_associate_professionals_group). However, the percentage differed greatly between Member States. ~~Luxembourg (72.3 %), Lithuania (72.1 %) and Romania (70.8 %)~~ {{message(value6_text)}} reported the highest proportion of professionals. Other Member States with more than two thirds professionals were ~~Greece (70.2 %), Ireland (69.0 %) and Portugal (67.0 %)~~  {{message(value7_text)}} (see Figure 1). "
   ]
  },
  {
   "cell_type": "markdown",
   "id": "present-denver",
   "metadata": {},
   "source": []
  }
 ],
 "metadata": {
  "kernelspec": {
   "display_name": "R",
   "language": "R",
   "name": "ir"
  },
  "language_info": {
   "codemirror_mode": "r",
   "file_extension": ".r",
   "mimetype": "text/x-r-source",
   "name": "R",
   "pygments_lexer": "r",
   "version": "4.0.5"
  }
 },
 "nbformat": 4,
 "nbformat_minor": 5
}

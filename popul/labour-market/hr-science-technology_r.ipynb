{
 "cells": [
  {
   "cell_type": "markdown",
   "id": "emotional-latitude",
   "metadata": {},
   "source": [
    "# Human resources in science and technologies\n",
    " \n",
    " partial reproduction of the [Statistics Explained](https://ec.europa.eu/eurostat/statistics-explained/index.php?title=Human_resources_in_science_and_technology&oldid=395960) article"
   ]
  },
  {
   "cell_type": "code",
   "execution_count": 5,
   "id": "liable-illinois",
   "metadata": {},
   "outputs": [],
   "source": [
    "datum<-Sys.Date()"
   ]
  },
  {
   "cell_type": "markdown",
   "id": "laughing-traveler",
   "metadata": {},
   "source": [
    "Last modification: [[datum]]"
   ]
  }
 ],
 "metadata": {
  "kernelspec": {
   "display_name": "R",
   "language": "R",
   "name": "ir"
  },
  "language_info": {
   "codemirror_mode": "r",
   "file_extension": ".r",
   "mimetype": "text/x-r-source",
   "name": "R",
   "pygments_lexer": "r",
   "version": "4.0.5"
  }
 },
 "nbformat": 4,
 "nbformat_minor": 5
}

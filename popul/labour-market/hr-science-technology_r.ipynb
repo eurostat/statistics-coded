{
 "cells": [
  {
   "cell_type": "markdown",
   "id": "emotional-latitude",
   "metadata": {},
   "source": [
    "# Human resources in science and technologies\n",
    " \n",
    " partial reproduction of the [Statistics Explained](https://ec.europa.eu/eurostat/statistics-explained/index.php?title=Human_resources_in_science_and_technology&oldid=395960) article"
   ]
  },
  {
   "cell_type": "code",
   "execution_count": 1,
   "id": "liable-illinois",
   "metadata": {},
   "outputs": [],
   "source": [
    "datum<-Sys.Date()"
   ]
  },
  {
   "cell_type": "markdown",
   "id": "concerned-rebate",
   "metadata": {
    "variables": {
     "datum": "2021-06-24"
    }
   },
   "source": [
    "Last modification: {{datum}}"
   ]
  },
  {
   "cell_type": "code",
   "execution_count": 2,
   "id": "great-stereo",
   "metadata": {},
   "outputs": [],
   "source": [
    "# CONFIGURATION VALUES\n",
    "\n",
    "year<-2020\n",
    "tweet_age<-'25 to 64' #'15 to 74'\n"
   ]
  },
  {
   "cell_type": "code",
   "execution_count": 3,
   "id": "combined-requirement",
   "metadata": {},
   "outputs": [
    {
     "name": "stderr",
     "output_type": "stream",
     "text": [
      "restatapi: - config file with the API version 1 loaded from GitHub (the 'current' API version number is 1).\n",
      "           - 4 from the 64 cores are used for parallel computing, can be changed with 'options(restatapi_cores=...)'\n",
      "           - 'auto' method will be used for file download, can be changed with 'options(restatapi_dmethod=...)'\n",
      "           - the Table of contents (TOC) was not pre-loaded into the deafult cache ('.restatapi_env').\n",
      "\n"
     ]
    }
   ],
   "source": [
    "# CALCULATION\n",
    "library(restatapi)\n",
    "# get_eurostat_dsd(\"hrst_st_nocc\")\n",
    "tweet_value<-round(get_eurostat_data(\"hrst_st_nocc\",date_filter=year,filters=c(\"HRSTO$\",\"EU27_2020\",\"THS\",\"TOTAL\",gsub(\" to \",\"-\",tweet_age)),exact_match=F)$values/1000)\n"
   ]
  },
  {
   "cell_type": "markdown",
   "id": "endangered-conservative",
   "metadata": {
    "variables": {
     "message(tweet_age)": "25 to 64",
     "tweet_value": "67",
     "year": "2020"
    }
   },
   "source": [
    "### markdown version\n",
    "\n",
    "**Tweet:** \n",
    "In {{year}}, over {{tweet_value}} million people aged from {{message(tweet_age)}} were employed in science and technology (HRSTO) in the EU. \n",
    "\n",
    "This article provides information on statistics [on human resources in science and technology (HRST)](https://ec.europa.eu/eurostat/statistics-explained/index.php?title=Glossary:Human_resources_in_science_and_technology_(HRST)) which help us to better understand the demand for and the supply of people with strong qualifications in science and technology. It describes the current stock of HRST in the [European Union](https://ec.europa.eu/eurostat/statistics-explained/index.php?title=Glossary:European_Union_(EU)), the [EFTA](https://ec.europa.eu/eurostat/statistics-explained/index.php?title=Glossary:European_Free_Trade_Association_(EFTA)) countries and the [candidate countries](https://ec.europa.eu/eurostat/statistics-explained/index.php?title=Glossary:Candidate_countries) and gives information on the current and future supply of highly skilled people from universities and other specialised education institutions in the HRST field.\n",
    "\n",
    "Investment in research, development, education and skills is a key policy area for the EU as it is essential for economic growth and for the development of a [knowledge-based economy](https://ec.europa.eu/eurostat/statistics-explained/index.php?title=Glossary:Knowledge-based_economy). There is, therefore, a great need to measure and analyse the most highly skilled part of the [labour force](https://ec.europa.eu/eurostat/statistics-explained/index.php?title=Glossary:Labour_force), both within the EU and internationally. "
   ]
  },
  {
   "cell_type": "code",
   "execution_count": 4,
   "id": "balanced-census",
   "metadata": {},
   "outputs": [
    {
     "data": {
      "text/markdown": [
       "<b>Tweet:</b> In 2020, over 67 million people aged from 25 to 64 were employed in science and technology (HRSTO) in the EU."
      ]
     },
     "metadata": {},
     "output_type": "display_data"
    }
   ],
   "source": [
    "IRdisplay::display_markdown(paste0(\"<b>Tweet:</b> In \",year,\", over \",tweet_value,\" million people aged from \",tweet_age,\" were employed in science and technology (HRSTO) in the EU.\"))"
   ]
  },
  {
   "cell_type": "markdown",
   "id": "wanted-harvey",
   "metadata": {
    "variables": {
     "year": "2020",
     "year-1": "2019"
    }
   },
   "source": [
    "### Professionals and technicians employed in science and technology occupations\n",
    "\n",
    "In {{year}}, 72.9 million people in the EU aged from 15 to 74 were employed in science and technology (and therefore considered as human resources in science and technology by occupation — HRSTO (see Figure 5 below)), an increase of 1.7 % compared with {{year-1}}.\n",
    "\n",
    "Within this 72.9 million, 67.7 million people were in the 25 to 64 age group, an increase of 1.9 % compared with 2019. From this broad group 57.0 % were ['professionals'](https://ec.europa.eu/eurostat/statistics-explained/index.php?title=Glossary:Professionals_group) (22.6% of ‘Scientists and Engineers’ and 34.4% of ‘Other professionals (other than SE)’) and 43.0 % were [‘technicians’](https://ec.europa.eu/eurostat/statistics-explained/index.php?title=Glossary:Technicians_and_associate_professionals_group). However, the percentage differed greatly between Member States. Luxembourg (72.3 %), Lithuania (72.1 %) and Romania (70.8 %) reported the highest proportion of professionals. Other Member States with more than two thirds professionals were Greece (70.2 %), Ireland (69.0 %) and Portugal (67.0 %) (see Figure 1). "
   ]
  }
 ],
 "metadata": {
  "kernelspec": {
   "display_name": "R",
   "language": "R",
   "name": "ir"
  },
  "language_info": {
   "codemirror_mode": "r",
   "file_extension": ".r",
   "mimetype": "text/x-r-source",
   "name": "R",
   "pygments_lexer": "r",
   "version": "4.0.5"
  }
 },
 "nbformat": 4,
 "nbformat_minor": 5
}

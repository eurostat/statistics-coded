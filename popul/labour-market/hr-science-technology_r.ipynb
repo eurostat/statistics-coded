{
 "cells": [
  {
   "cell_type": "markdown",
   "id": "emotional-latitude",
   "metadata": {},
   "source": [
    "# Human resources in science and technologies\n",
    " \n",
    " partial reproduction of the [Statistics Explained](https://ec.europa.eu/eurostat/statistics-explained/index.php?title=Human_resources_in_science_and_technology&oldid=395960) article"
   ]
  },
  {
   "cell_type": "code",
   "execution_count": 1,
   "id": "liable-illinois",
   "metadata": {},
   "outputs": [],
   "source": [
    "datum<-Sys.Date()"
   ]
  },
  {
   "cell_type": "markdown",
   "id": "concerned-rebate",
   "metadata": {
    "variables": {
     "datum": "2021-06-24"
    }
   },
   "source": [
    "Last modification: {{datum}}"
   ]
  },
  {
   "cell_type": "code",
   "execution_count": 2,
   "id": "removed-professor",
   "metadata": {},
   "outputs": [],
   "source": [
    "# CONFIGURATION VALUES\n",
    "\n",
    "year<-2020\n",
    "age_group1<-'25 to 64' \n",
    "age_group2<-'15 to 74'\n"
   ]
  },
  {
   "cell_type": "code",
   "execution_count": 5,
   "id": "competent-suicide",
   "metadata": {},
   "outputs": [
    {
     "data": {
      "text/html": [
       "<table class=\"dataframe\">\n",
       "<caption>A data.table: 6 × 7</caption>\n",
       "<thead>\n",
       "\t<tr><th scope=col>unit</th><th scope=col>category</th><th scope=col>isco08</th><th scope=col>age</th><th scope=col>geo</th><th scope=col>time</th><th scope=col>values</th></tr>\n",
       "\t<tr><th scope=col>&lt;fct&gt;</th><th scope=col>&lt;fct&gt;</th><th scope=col>&lt;fct&gt;</th><th scope=col>&lt;fct&gt;</th><th scope=col>&lt;fct&gt;</th><th scope=col>&lt;fct&gt;</th><th scope=col>&lt;dbl&gt;</th></tr>\n",
       "</thead>\n",
       "<tbody>\n",
       "\t<tr><td>Percentage of total employment</td><td>Persons employed in science and technology</td><td>Professionals                          </td><td>From 25 to 64 years</td><td>European Union - 27 countries (from 2020)</td><td>2020</td><td>   56.5</td></tr>\n",
       "\t<tr><td>Percentage of total employment</td><td>Persons employed in science and technology</td><td>Technicians and associate professionals</td><td>From 25 to 64 years</td><td>European Union - 27 countries (from 2020)</td><td>2020</td><td>   43.5</td></tr>\n",
       "\t<tr><td>Percentage of total employment</td><td>Persons employed in science and technology</td><td>Total                                  </td><td>From 25 to 64 years</td><td>European Union - 27 countries (from 2020)</td><td>2020</td><td>  100.0</td></tr>\n",
       "\t<tr><td>Thousand                      </td><td>Persons employed in science and technology</td><td>Professionals                          </td><td>From 25 to 64 years</td><td>European Union - 27 countries (from 2020)</td><td>2020</td><td>37747.0</td></tr>\n",
       "\t<tr><td>Thousand                      </td><td>Persons employed in science and technology</td><td>Technicians and associate professionals</td><td>From 25 to 64 years</td><td>European Union - 27 countries (from 2020)</td><td>2020</td><td>29081.1</td></tr>\n",
       "\t<tr><td>Thousand                      </td><td>Persons employed in science and technology</td><td>Total                                  </td><td>From 25 to 64 years</td><td>European Union - 27 countries (from 2020)</td><td>2020</td><td>66828.0</td></tr>\n",
       "</tbody>\n",
       "</table>\n"
      ],
      "text/latex": [
       "A data.table: 6 × 7\n",
       "\\begin{tabular}{lllllll}\n",
       " unit & category & isco08 & age & geo & time & values\\\\\n",
       " <fct> & <fct> & <fct> & <fct> & <fct> & <fct> & <dbl>\\\\\n",
       "\\hline\n",
       "\t Percentage of total employment & Persons employed in science and technology & Professionals                           & From 25 to 64 years & European Union - 27 countries (from 2020) & 2020 &    56.5\\\\\n",
       "\t Percentage of total employment & Persons employed in science and technology & Technicians and associate professionals & From 25 to 64 years & European Union - 27 countries (from 2020) & 2020 &    43.5\\\\\n",
       "\t Percentage of total employment & Persons employed in science and technology & Total                                   & From 25 to 64 years & European Union - 27 countries (from 2020) & 2020 &   100.0\\\\\n",
       "\t Thousand                       & Persons employed in science and technology & Professionals                           & From 25 to 64 years & European Union - 27 countries (from 2020) & 2020 & 37747.0\\\\\n",
       "\t Thousand                       & Persons employed in science and technology & Technicians and associate professionals & From 25 to 64 years & European Union - 27 countries (from 2020) & 2020 & 29081.1\\\\\n",
       "\t Thousand                       & Persons employed in science and technology & Total                                   & From 25 to 64 years & European Union - 27 countries (from 2020) & 2020 & 66828.0\\\\\n",
       "\\end{tabular}\n"
      ],
      "text/markdown": [
       "\n",
       "A data.table: 6 × 7\n",
       "\n",
       "| unit &lt;fct&gt; | category &lt;fct&gt; | isco08 &lt;fct&gt; | age &lt;fct&gt; | geo &lt;fct&gt; | time &lt;fct&gt; | values &lt;dbl&gt; |\n",
       "|---|---|---|---|---|---|---|\n",
       "| Percentage of total employment | Persons employed in science and technology | Professionals                           | From 25 to 64 years | European Union - 27 countries (from 2020) | 2020 |    56.5 |\n",
       "| Percentage of total employment | Persons employed in science and technology | Technicians and associate professionals | From 25 to 64 years | European Union - 27 countries (from 2020) | 2020 |    43.5 |\n",
       "| Percentage of total employment | Persons employed in science and technology | Total                                   | From 25 to 64 years | European Union - 27 countries (from 2020) | 2020 |   100.0 |\n",
       "| Thousand                       | Persons employed in science and technology | Professionals                           | From 25 to 64 years | European Union - 27 countries (from 2020) | 2020 | 37747.0 |\n",
       "| Thousand                       | Persons employed in science and technology | Technicians and associate professionals | From 25 to 64 years | European Union - 27 countries (from 2020) | 2020 | 29081.1 |\n",
       "| Thousand                       | Persons employed in science and technology | Total                                   | From 25 to 64 years | European Union - 27 countries (from 2020) | 2020 | 66828.0 |\n",
       "\n"
      ],
      "text/plain": [
       "  unit                           category                                  \n",
       "1 Percentage of total employment Persons employed in science and technology\n",
       "2 Percentage of total employment Persons employed in science and technology\n",
       "3 Percentage of total employment Persons employed in science and technology\n",
       "4 Thousand                       Persons employed in science and technology\n",
       "5 Thousand                       Persons employed in science and technology\n",
       "6 Thousand                       Persons employed in science and technology\n",
       "  isco08                                  age                \n",
       "1 Professionals                           From 25 to 64 years\n",
       "2 Technicians and associate professionals From 25 to 64 years\n",
       "3 Total                                   From 25 to 64 years\n",
       "4 Professionals                           From 25 to 64 years\n",
       "5 Technicians and associate professionals From 25 to 64 years\n",
       "6 Total                                   From 25 to 64 years\n",
       "  geo                                       time values \n",
       "1 European Union - 27 countries (from 2020) 2020    56.5\n",
       "2 European Union - 27 countries (from 2020) 2020    43.5\n",
       "3 European Union - 27 countries (from 2020) 2020   100.0\n",
       "4 European Union - 27 countries (from 2020) 2020 37747.0\n",
       "5 European Union - 27 countries (from 2020) 2020 29081.1\n",
       "6 European Union - 27 countries (from 2020) 2020 66828.0"
      ]
     },
     "metadata": {},
     "output_type": "display_data"
    }
   ],
   "source": [
    "# CALCULATION\n",
    "library(restatapi)\n",
    "# get_eurostat_dsd(\"hrst_st_nocc\")\n",
    "value0<-get_eurostat_data(\"hrst_st_nocc\",date_filter=year,filters=c(\"HRSTO$\",\"EU27_2020\",\"THS\",\"TOTAL\",gsub(\" to \",\"-\",age_group1)),exact_match=F)$values\n",
    "value1<-get_eurostat_data(\"hrst_st_nocc\",date_filter=year,filters=c(\"HRSTO$\",\"EU27_2020\",\"THS\",\"TOTAL\",gsub(\" to \",\"-\",age_group2)),exact_match=F)$values\n",
    "value2<-(get_eurostat_data(\"hrst_st_nocc\",date_filter=year,filters=c(\"HRSTO$\",\"EU27_2020\",\"THS\",\"TOTAL\",gsub(\" to \",\"-\",age_group2)),exact_match=F)$values/get_eurostat_data(\"hrst_st_nocc\",date_filter=(year-1),filters=c(\"HRSTO$\",\"EU27_2020\",\"THS\",\"TOTAL\",gsub(\" to \",\"-\",age_group2)),exact_match=F)$values-1)*100\n",
    "value2_text<-if (value2>0) {'increase'} else {'decrease'}\n",
    "value3<-(get_eurostat_data(\"hrst_st_nocc\",date_filter=year,filters=c(\"HRSTO$\",\"EU27_2020\",\"THS\",\"TOTAL\",gsub(\" to \",\"-\",age_group1)),exact_match=F)$values/get_eurostat_data(\"hrst_st_nocc\",date_filter=(year-1),filters=c(\"HRSTO$\",\"EU27_2020\",\"THS\",\"TOTAL\",gsub(\" to \",\"-\",age_group1)),exact_match=F)$values-1)*100\n",
    "value3_text<-if (value3>0) {'increase'} else {'decrease'}\n",
    "get_eurostat_data(\"hrst_st_nocc\",date_filter=year,filters=c(\"HRSTO$\",\"EU27_2020\",gsub(\" to \",\"-\",age_group1)),exact_match=F,label=T)"
   ]
  },
  {
   "cell_type": "markdown",
   "id": "ranging-marketing",
   "metadata": {
    "variables": {
     " message(value2_text) ": "increase",
     " message(value3_text) ": "increase",
     "abs(round(value2,1))": "0.5",
     "abs(round(value3,1))": "0.6",
     "message(age_group1)": "25 to 64",
     "message(age_group2)": "15 to 74",
     "round(value0/1000)": "67",
     "round(value0/1000,1)": "66.8",
     "round(value1/1000,1)": "72.1",
     "year": "2020",
     "year-1": "2019"
    }
   },
   "source": [
    "### markdown version\n",
    "\n",
    "**Tweet:** \n",
    "In {{year}}, over ~~~67~~~ {{round(value0/1000)}} million people aged from {{message(age_group1)}} were employed in science and technology (HRSTO) in the EU. \n",
    "\n",
    "This article provides information on statistics [on human resources in science and technology (HRST)](https://ec.europa.eu/eurostat/statistics-explained/index.php?title=Glossary:Human_resources_in_science_and_technology_(HRST)) which help us to better understand the demand for and the supply of people with strong qualifications in science and technology. It describes the current stock of HRST in the [European Union](https://ec.europa.eu/eurostat/statistics-explained/index.php?title=Glossary:European_Union_(EU)), the [EFTA](https://ec.europa.eu/eurostat/statistics-explained/index.php?title=Glossary:European_Free_Trade_Association_(EFTA)) countries and the [candidate countries](https://ec.europa.eu/eurostat/statistics-explained/index.php?title=Glossary:Candidate_countries) and gives information on the current and future supply of highly skilled people from universities and other specialised education institutions in the HRST field.\n",
    "\n",
    "Investment in research, development, education and skills is a key policy area for the EU as it is essential for economic growth and for the development of a [knowledge-based economy](https://ec.europa.eu/eurostat/statistics-explained/index.php?title=Glossary:Knowledge-based_economy). There is, therefore, a great need to measure and analyse the most highly skilled part of the [labour force](https://ec.europa.eu/eurostat/statistics-explained/index.php?title=Glossary:Labour_force), both within the EU and internationally. \n",
    "\n",
    "### Professionals and technicians employed in science and technology occupations\n",
    "\n",
    "In {{year}}, ~~~72.9~~~ {{round(value1/1000,1)}} million people in the EU aged from {{message(age_group2)}} were employed in science and technology (and therefore considered as human resources in science and technology by occupation — HRSTO (see Figure 5 below)), an {{ message(value2_text) }} of ~~~1.7~~~ {{abs(round(value2,1))}} % compared with {{year-1}}.\n",
    "\n",
    "Within this ~~~72.9~~~ {{round(value1/1000,1)}} million, ~~~67.7~~~ {{round(value0/1000,1)}} million people were in the {{message(age_group1)}} age group, an {{ message(value3_text) }} of ~~~1.9~~~ {{abs(round(value3,1))}} % compared with {{year-1}}. From this broad group 57.0 % were ['professionals'](https://ec.europa.eu/eurostat/statistics-explained/index.php?title=Glossary:Professionals_group) (22.6% of ‘Scientists and Engineers’ and 34.4% of ‘Other professionals (other than SE)’) and 43.0 % were [‘technicians’](https://ec.europa.eu/eurostat/statistics-explained/index.php?title=Glossary:Technicians_and_associate_professionals_group). However, the percentage differed greatly between Member States. Luxembourg (72.3 %), Lithuania (72.1 %) and Romania (70.8 %) reported the highest proportion of professionals. Other Member States with more than two thirds professionals were Greece (70.2 %), Ireland (69.0 %) and Portugal (67.0 %) (see Figure 1). "
   ]
  },
  {
   "cell_type": "markdown",
   "id": "pleasant-festival",
   "metadata": {},
   "source": []
  }
 ],
 "metadata": {
  "kernelspec": {
   "display_name": "R",
   "language": "R",
   "name": "ir"
  },
  "language_info": {
   "codemirror_mode": "r",
   "file_extension": ".r",
   "mimetype": "text/x-r-source",
   "name": "R",
   "pygments_lexer": "r",
   "version": "4.0.5"
  }
 },
 "nbformat": 4,
 "nbformat_minor": 5
}

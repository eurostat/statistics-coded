{
 "cells": [
  {
   "cell_type": "markdown",
   "metadata": {},
   "source": [
    "# Statistics Coded: How do women and men use their time - statistics \n",
    "\n",
    "This noteboook reproduces step by step the figures avialable in the original [Statistics Explaind page](https://ec.europa.eu/eurostat/statistics-explained/index.php?title=How_do_women_and_men_use_their_time_-_statistics) and in the [source excel file](https://ec.europa.eu/eurostat/statistics-explained/images/2/2e/SE_Article_Charts_HETUS_2010_FINAL_06.09.2019.xlsx)."
   ]
  },
  {
   "cell_type": "markdown",
   "metadata": {},
   "source": [
    "We define the year in a variable `yr<-2010` so if i want to rerun the code for a different year we have to change only this line. In addition we will retrieve the EU28 country names which will be used in later steps."
   ]
  },
  {
   "cell_type": "code",
   "execution_count": 1,
   "metadata": {},
   "outputs": [
    {
     "name": "stderr",
     "output_type": "stream",
     "text": [
      "restatapi: - config file with the API version 1 loaded from GitHub (the 'current' API version number is 1).\n",
      "           - 4 from the 32 cores are used for parallel computing, can be changed with 'options(restatapi_cores=...)'\n",
      "           - 'auto' method will be used for file download, can be changed with 'options(restatapi_dmethod=...)'\n",
      "           - the Table of contents (TOC) was not pre-loaded into the deafult cache ('.restatapi_env').\n",
      "\n"
     ]
    }
   ],
   "source": [
    "library(restatapi)\n",
    "library(ggplot2)\n",
    "library(chron)\n",
    "yr<-\"2010\"\n",
    "eu_ctry_names<-do.call(rbind,lapply(get(\"cc\",envir=.restatapi_env)$EU28,search_eurostat_dsd,dsd=get_eurostat_dsd(\"tus_00age\"),exact_match=TRUE))$name\n",
    "eu_ctry_names<-gsub(\" \\\\(.*\\\\)\",\"\",eu_ctry_names)"
   ]
  },
  {
   "cell_type": "markdown",
   "metadata": {},
   "source": [
    "## Figure 1: Mean time spent on daily activities, all individuals by country, (hh:mm; 2008 to 2015)\n",
    "\n",
    "\n",
    "The data is in the *tus_00age* dataset. We use the [restatapi](https://github.com/eurostat/restatapi) package to download the data. We apply filter to the data for the year (`date_filter=yr`) . We also filter for the other values in the graph (`filters=list(unit=\"spent\",age=\"total\",sex=\"total\",acl00=c(\"sleep\",\"eat\",\"^employ\",\" (family|personal) care\",\"^leisure\",\"^study\",\"except travel\"))`. If we use the [REST SDMX](https://ec.europa.eu/eurostat/web/sdmx-web-services/rest-sdmx-2.1) service to get the filtered dataset, then we get no data because all the values are **NaN** (Not a Number) as the values are time spans. In order to get the data we have to apply the filter locally (`force_local_filter=T`) on the dataset retrieved from the bulk download facility.  "
   ]
  },
  {
   "cell_type": "code",
   "execution_count": null,
   "metadata": {},
   "outputs": [],
   "source": [
    "#dt<-get_eurostat_data(\"tus_00age\",filters=list(unit=\"spent\",age=\"total\",sex=\"total\",acl00=\"^(?!total).*$\",geo=\"be\"),date_filter=2010,label=F,ignore.case=T,exact_match=F,force_local_filter=T,perl=T)\n",
    "#dt<-get_eurostat_data(\"tus_00age\",filters=list(unit=\"spent\",age=\"total\",sex=\"total\",acl00=c(\"ac01\",\"ac02\",\"ac03\",\"ac1a\",\"ac1b\",\"ac2$\",\"ac3$\",\"ac4-8$\",\"ac9a\"),geo=\"be\"),date_filter=2010,label=T,ignore.case=T,exact_match=F,force_local_filter=T,perl=T)\n",
    "#dt<-get_eurostat_data(\"tus_00age\",filters=list(unit=\"spent\",age=\"total\",sex=\"total\",geo=\"be\"),date_filter=2010,label=T,ignore.case=T,exact_match=F,force_local_filter=T,perl=T)\n",
    "dt<-get_eurostat_data(\"tus_00age\",filters=list(unit=\"spent\",age=\"total\",sex=\"total\",acl00=c(\"sleep\",\"eat\",\"^employ\",\" (family|personal) care\",\"^leisure\",\"^study\",\"except travel\")),date_filter=eval(yr),label=T,ignore.case=T,exact_match=F,perl=T)\n",
    "dt\n",
    "dt<-get_eurostat_data(\"tus_00age\",filters=list(unit=\"spent\",age=\"total\",sex=\"total\",acl00=c(\"sleep\",\"eat\",\"^employ\",\" (family|personal) care\",\"^leisure\",\"^study\",\"except travel\")),date_filter=eval(yr),label=T,ignore.case=T,exact_match=F,perl=T,stringsAsFactors=F,force_local_filter=T)\n",
    "dt"
   ]
  },
  {
   "cell_type": "markdown",
   "metadata": {},
   "source": [
    "Then we convert the values from characters/factors to time values using the *chron* package and keep only the columns with activities, countries and values. Before plotting the values, we need to sum the eating and other personal care for each country and cut the brackets from the name of Germany."
   ]
  },
  {
   "cell_type": "code",
   "execution_count": null,
   "metadata": {},
   "outputs": [],
   "source": [
    "dt$geo<-gsub(\" \\\\(.*\\\\)\",\"\",dt$geo)\n",
    "if (is.factor(dt$values)|is.character(dt$values)) dt<-dt[,values:=chron::times(paste0(values,\":00\"))]\n",
    "dt<-dt[,c(\"acl00\",\"geo\",\"values\")]\n",
    "sdt<-dt[grepl(\"(ating|ther)\",acl00),.(acl00=\"Eating and other personal care\",values=sum(values)),by=geo]\n",
    "sdt\n",
    "dt<-rbind(dt[!grepl(\"(ating|ther)\",acl00)],sdt)"
   ]
  },
  {
   "cell_type": "markdown",
   "metadata": {},
   "source": [
    "Then plot the data using the *ggplot2* library, and using the color codes of the original figure."
   ]
  },
  {
   "cell_type": "code",
   "execution_count": null,
   "metadata": {},
   "outputs": [],
   "source": [
    "fig1_colors<-c(\"#F6A26B\",\"#F06423\",\"#71A8DF\",\"#286EB4\",\"#FDDBA3\",\"#FCC975\",\"#FAA519\")\n",
    "ggplot(dt, aes(x=geo, y=values,fill=acl00)) + \n",
    "  geom_bar(position=\"stack\",stat=\"identity\")+\n",
    "  scale_y_chron(format=\"%H:%M\") +\n",
    "  scale_fill_manual(values = fig1_colors)+\n",
    "  ggtitle(\"Figure 1\") +\n",
    "  ylab (\"\")+\n",
    "  xlab(\"\")+\n",
    "  theme(axis.text.x = element_text(angle = 90, hjust = 1))"
   ]
  },
  {
   "cell_type": "markdown",
   "metadata": {},
   "source": [
    "The graph not exactly as in the SE article, because in our case it is sorted alphabetically. We have to add the empty spaces before the EFTA and accession countries and reorder the values. Finally adjust scaling, remove vertical grid lines, column width and resize the plotting area to better see the figure. "
   ]
  },
  {
   "cell_type": "code",
   "execution_count": null,
   "metadata": {},
   "outputs": [],
   "source": [
    "dt_sep<-data.table::data.table(acl00=c(\"Sleep\",\"Sleep\"),geo=c(\" \",\"  \"),values=c(chron::times(NA),chron::times(NA)))\n",
    "dt<-rbind(dt,dt_sep)\n",
    "acls_ord<-c('Travel except travel related to jobs','Leisure, social and associative life','Household and family care','Study','Employment, related activities and travel as part of/during main and second job','Eating and other personal care','Sleep')\n",
    "dt$acl00<-factor(dt$acl00,levels=acls_ord)\n",
    "geo_ord<-c('Belgium','Germany','Estonia','Greece','Spain','France','Italy','Luxembourg','Hungary','Netherlands','Austria','Poland','Romania','Finland','United Kingdom',' ','Norway','  ','Serbia','Turkey')\n",
    "dt$geo<-factor(dt$geo,levels=geo_ord)\n",
    "\n",
    "options(repr.plot.width=9, repr.plot.height=6,repr.plot.res=300)\n",
    "ggplot(dt, aes(x=geo, y=values,fill=acl00)) + theme_minimal() +\n",
    "  geom_bar(position=\"stack\",stat=\"identity\",width=0.5)+\n",
    "  scale_y_chron(format=\"%H:%M\",breaks=seq(0,1,4/24)) +\n",
    "  scale_fill_manual(values = fig1_colors)+\n",
    "  ggtitle(\"Figure 1: Mean time spent on daily activities, all individuals by country, (hh:mm; 2008 to 2015)\") +\n",
    "  ylab(\"\")+\n",
    "  xlab(\"\")+\n",
    "  theme(legend.title = element_blank(), \n",
    "        axis.text.x = element_text(angle = 90, hjust = 1),\n",
    "        panel.grid.major.x = element_blank())"
   ]
  },
  {
   "cell_type": "markdown",
   "metadata": {},
   "source": [
    "## Figure 2: Participation time per day in study and employment, only individuals taking part in the activity, by country, (hh mm; 2008 to 2015)\n",
    "\n",
    "The data is again in the *tus_00age* dataset. We use the same method as for Figure 1. We apply the same filter to the data for the year (`date_filter=yr`) and a modified one for the values in the graph (`filters=list(unit=\"Participation time\",age=\"total\",sex=\"total\",acl00=c(\"^study\",\"^empl\"))`. Again in order to get the data we have to apply the filter locally (`force_local_filter=T`) on the dataset retrieved from the bulk download facility. "
   ]
  },
  {
   "cell_type": "code",
   "execution_count": null,
   "metadata": {},
   "outputs": [],
   "source": [
    "dt<-get_eurostat_data(\"tus_00age\",filters=list(unit=\"Participation time\",age=\"total\",sex=\"total\",acl00=c(\"^study\",\"^empl\")),date_filter=eval(yr),label=T,ignore.case=T,exact_match=F,perl=T,stringsAsFactors=F,force_local_filter=T)\n",
    "dt"
   ]
  },
  {
   "cell_type": "markdown",
   "metadata": {},
   "source": [
    "Then again we convert the values from characters/factors to time values using the *chron* package and keep only the columns with activities, countries and values. Before plotting the values we need to cut the brackets from the name of Germany."
   ]
  },
  {
   "cell_type": "code",
   "execution_count": null,
   "metadata": {},
   "outputs": [],
   "source": [
    "dt$geo<-gsub(\" \\\\(.*\\\\)\",\"\",dt$geo)\n",
    "if (is.factor(dt$values)|is.character(dt$values)) dt<-dt[,values:=chron::times(paste0(values,\":00\"))]\n",
    "dt<-dt[,c(\"acl00\",\"geo\",\"values\")]\n",
    "dt"
   ]
  },
  {
   "cell_type": "markdown",
   "metadata": {},
   "source": [
    "We make the graph again with *ggplot*. We have to order by increasing value of *Employment*, add the empty spaces before the EFTA and accession countries. Finally adjust scaling, remove vertical grid lines, column width and resize the plotting area to better see the figure. "
   ]
  },
  {
   "cell_type": "code",
   "execution_count": null,
   "metadata": {},
   "outputs": [],
   "source": [
    "dt_sep<-data.table::data.table(acl00=c(\"Study\",\"Study\"),geo=c(\" \",\"  \"),values=c(chron::times(NA),chron::times(NA)))\n",
    "dt<-rbind(dt,dt_sep)\n",
    "geo_ord<-dt[(geo %in% eu_ctry_names)&grepl(\"Empl\",acl00)]\n",
    "geo_ord<-geo_ord[order(values)]$geo\n",
    "geo_ord<-c(geo_ord,' ','Norway','  ','Serbia','Turkey')\n",
    "dt$geo<-factor(dt$geo,levels=geo_ord)\n",
    "fig2_colors<-c(\"#FAA519\",\"#286EB4\")\n",
    "\n",
    "options(repr.plot.width=9, repr.plot.height=6,repr.plot.res=300)\n",
    "ggplot(dt, aes(x=geo, y=values,fill=acl00)) + theme_minimal() +\n",
    "  geom_bar(position=\"dodge\",stat=\"identity\",width=0.7)+\n",
    "  scale_y_chron(format=\"%H:%M\",breaks=seq(0,1,1/24)) +\n",
    "  scale_fill_manual(values = fig2_colors)+\n",
    "  ggtitle(\"Figure 2: Participation time per day in study and employment, only individuals taking part in the activity, by country, (hh mm; 2008 to 2015)\") +\n",
    "  ylab(\"\")+\n",
    "  xlab(\"\")+\n",
    "  theme(legend.title = element_blank(),\n",
    "        legend.position= \"bottom\",\n",
    "        axis.text.x = element_text(angle = 90, hjust = 1),\n",
    "        panel.grid.major.x = element_blank(),\n",
    "        panel.grid.minor.y = element_blank())"
   ]
  },
  {
   "cell_type": "markdown",
   "metadata": {},
   "source": [
    "## Figure 3: Participation time per day in household and family care, by gender, (hh mm; 2008 to 2015)\n",
    "\n",
    "The data is again in the *tus_00age* dataset. We use the same method as for Figure 1. We apply the same filter to the data for the year (`date_filter=yr`) and a modified one for the values in the graph (`filters=list(unit=\"Participation time\",age=\"total\",acl00=\"household.*care\")`. Again in order to get the data we have to apply the filter locally (`force_local_filter=T`) on the dataset retrieved from the bulk download facility. "
   ]
  },
  {
   "cell_type": "code",
   "execution_count": null,
   "metadata": {},
   "outputs": [],
   "source": [
    "dt<-get_eurostat_data(\"tus_00age\",filters=list(unit=\"Participation time\",age=\"total\",acl00=\"household.*care\"),date_filter=eval(yr),label=T,ignore.case=T,exact_match=F,perl=T,stringsAsFactors=F,force_local_filter=T)\n",
    "dt"
   ]
  },
  {
   "cell_type": "markdown",
   "metadata": {},
   "source": [
    "Then again we convert the values from characters/factors to time values using the *chron* package and keep only the columns with sex, countries and values. Before plotting the values we need to cut the brackets from the name of Germany."
   ]
  },
  {
   "cell_type": "code",
   "execution_count": null,
   "metadata": {},
   "outputs": [],
   "source": [
    "dt$geo<-gsub(\" \\\\(.*\\\\)\",\"\",dt$geo)\n",
    "if (is.factor(dt$values)|is.character(dt$values)) dt<-dt[,values:=chron::times(paste0(values,\":00\"))]\n",
    "dt<-dt[,c(\"sex\",\"geo\",\"values\")]\n",
    "dt"
   ]
  },
  {
   "cell_type": "markdown",
   "metadata": {},
   "source": [
    "We make the graph again with *ggplot*. We have to order by increasing total value of *sex*, add the empty spaces before the EFTA and accession countries. Finally adjust scaling, remove vertical grid lines, column width and resize the plotting area to better see the figure. "
   ]
  },
  {
   "cell_type": "code",
   "execution_count": null,
   "metadata": {},
   "outputs": [],
   "source": [
    "dt_sep<-data.table::data.table(sex=c(\"Males\",\"Males\"),geo=c(\" \",\"  \"),values=c(chron::times(NA),chron::times(NA)))\n",
    "dt<-rbind(dt,dt_sep)\n",
    "geo_ord<-dt[(geo %in% eu_ctry_names)&grepl(\"Total\",sex)]\n",
    "geo_ord<-geo_ord[order(values)]$geo\n",
    "geo_ord<-c(geo_ord,' ','Norway','  ','Serbia','Turkey')\n",
    "dt$geo<-factor(dt$geo,levels=geo_ord)\n",
    "sex_ord<-c('Males','Females',\"Total\")\n",
    "dt$sex<-factor(dt$sex,levels=sex_ord)"
   ]
  },
  {
   "cell_type": "code",
   "execution_count": null,
   "metadata": {},
   "outputs": [],
   "source": [
    "fig3_colors<-c(\"#FAA519\",\"#286EB4\",\"#F06423\")\n",
    "\n",
    "options(repr.plot.width=9, repr.plot.height=6,repr.plot.res=300)\n",
    "ggplot(dt,aes(x=geo,y=values)) + theme_minimal() +\n",
    "  geom_bar(data=dt[sex!=\"Total\"], aes(fill=sex),position=\"dodge\",stat=\"identity\",width=0.6)+\n",
    "  geom_point(data=dt[grepl(\"Total\",sex)],aes(shape=sex),colour=\"#F06423\",fill=\"#F06423\",size=3)+\n",
    "  scale_y_chron(format=\"%H:%M\",breaks=seq(0,1,1/24)) +\n",
    "  scale_fill_manual(values = fig3_colors)+\n",
    "  scale_shape_manual(values=c(\"Males\"=NA,\"Females\"=NA,\"Total\"=23))+\n",
    "  ggtitle(\"Figure 3: Participation time per day in household and family care, by gender, (hh mm; 2008 to 2015)\") +\n",
    "  ylab(\"\")+\n",
    "  xlab(\"\")+\n",
    "  theme(legend.title = element_blank(),\n",
    "        legend.position= \"bottom\",\n",
    "        axis.text.x = element_text(angle = 90, hjust = 1),\n",
    "        panel.grid.major.x = element_blank(),\n",
    "        panel.grid.minor.y = element_blank())"
   ]
  },
  {
   "cell_type": "markdown",
   "metadata": {},
   "source": [
    "## Figure 4: Participation rate per day in household and family care, main activity, %, by gender (2008 to 2015)\n",
    "\n",
    "The data is this time in the *tus_00educ* dataset. We apply the same filter to the data for the year (`date_filter=yr`) and a modified one for the values in the graph (`filters=list(unit=\"Participation rate\",age=\"total\",acl00=\"household.*care\",sex=\"male\",isced97=\"^all\")`. This time we can use the SDMX REST API to get the data as it is numeric. "
   ]
  },
  {
   "cell_type": "code",
   "execution_count": null,
   "metadata": {},
   "outputs": [],
   "source": [
    "dt<-get_eurostat_data(\"tus_00educ\",filters=list(unit=\"Participation rate\",age=\"total\",acl00=\"household.*care\",sex=\"male\",isced97=\"^all\"),date_filter=eval(yr),label=T,ignore.case=T,exact_match=F,perl=T,stringsAsFactors=F)\n",
    "dt"
   ]
  },
  {
   "cell_type": "markdown",
   "metadata": {},
   "source": [
    "Then again we keep only the columns with sex, countries and values. Before plotting the values we need to cut the brackets from the name of Germany."
   ]
  },
  {
   "cell_type": "code",
   "execution_count": null,
   "metadata": {},
   "outputs": [],
   "source": [
    "dt$geo<-gsub(\" \\\\(.*\\\\)\",\"\",dt$geo)\n",
    "dt<-dt[,c(\"sex\",\"geo\",\"values\")]\n",
    "dt"
   ]
  },
  {
   "cell_type": "markdown",
   "metadata": {},
   "source": [
    "We make the graph again with *ggplot*. We have to order by increasing value of *Females*, add the empty spaces before the EFTA and accession countries. Finally adjust scaling, remove vertical grid lines, column width and resize the plotting area to better see the figure. "
   ]
  },
  {
   "cell_type": "code",
   "execution_count": null,
   "metadata": {},
   "outputs": [],
   "source": [
    "dt_sep<-data.table::data.table(sex=c(\"Males\",\"Males\"),geo=c(\" \",\"  \"),values=c(NA,NA))\n",
    "dt<-rbind(dt,dt_sep)\n",
    "geo_ord<-dt[(geo %in% eu_ctry_names)&grepl(\"Females\",sex)]\n",
    "geo_ord<-geo_ord[order(values)]$geo\n",
    "geo_ord<-c(geo_ord,' ','Norway','  ','Turkey','Serbia')\n",
    "dt$geo<-factor(dt$geo,levels=geo_ord)\n",
    "sex_ord<-c('Males','Females')\n",
    "dt$sex<-factor(dt$sex,levels=sex_ord)"
   ]
  },
  {
   "cell_type": "code",
   "execution_count": null,
   "metadata": {},
   "outputs": [],
   "source": [
    "fig4_colors<-c(\"#FAA519\",\"#286EB4\")\n",
    "\n",
    "options(repr.plot.width=9, repr.plot.height=6,repr.plot.res=300)\n",
    "ggplot(dt,aes(x=geo,y=values)) + theme_minimal() +\n",
    "  geom_bar(aes(fill=sex),position=\"dodge\",stat=\"identity\",width=0.6)+\n",
    "  scale_fill_manual(values = fig4_colors)+\n",
    "  ggtitle(\"Figure 4: Participation rate per day in household and family care,\\n                main activity, %, by gender (2008 to 2015)\") +\n",
    "  ylab(\"\")+\n",
    "  xlab(\"\")+\n",
    "  theme(legend.title = element_blank(),\n",
    "        legend.position= \"bottom\",\n",
    "        axis.text.x = element_text(angle = 90, hjust = 1),\n",
    "        panel.grid.major.x = element_blank(),\n",
    "        panel.grid.minor.y = element_blank())"
   ]
  },
  {
   "cell_type": "markdown",
   "metadata": {},
   "source": [
    "## Figure 5: Participation rate per day in cleaning and food management, by gender, % (2008 to 2015)\n",
    "\n",
    "The data is again in the *tus_00educ* dataset as on Figure 4. We apply the same filter to the data for the year (`date_filter=yr`) and a modified one for the values in the graph (`filters=list(unit=\"Participation rate\",age=\"total\",acl00=\"^food|^clean\",sex=\"male\",isced97=\"^all\")`. This time we can use again the SDMX REST API to get the values are it is numeric. "
   ]
  },
  {
   "cell_type": "code",
   "execution_count": null,
   "metadata": {},
   "outputs": [],
   "source": [
    "dt<-get_eurostat_data(\"tus_00educ\",filters=list(unit=\"Participation rate\",age=\"total\",acl00=\"^food|^clean\",sex=\"male\",isced97=\"^all\"),date_filter=eval(yr),label=T,ignore.case=T,exact_match=F,perl=T,stringsAsFactors=F)\n",
    "dt"
   ]
  },
  {
   "cell_type": "markdown",
   "metadata": {},
   "source": [
    "Then we keep only the columns with sex, activities, countries and values. Before plotting the values we need to merge the columns sex and activities and cut the brackets from the name of Germany."
   ]
  },
  {
   "cell_type": "code",
   "execution_count": null,
   "metadata": {},
   "outputs": [],
   "source": [
    "dt$geo<-gsub(\" \\\\(.*\\\\)\",\"\",dt$geo)\n",
    "dt<-dt[,c(\"sex\",\"acl00\",\"geo\",\"values\")]\n",
    "dt[,bd:=paste0(acl00,\", \",tolower(sex))][,c(\"acl00\",\"sex\"):=NULL]\n",
    "dt"
   ]
  },
  {
   "cell_type": "markdown",
   "metadata": {},
   "source": [
    "We make the graph again with *ggplot*. We have to order by increasing value of *Food management except dish washing, females*, add the empty spaces before the EFTA and accession countries. Finally adjust scaling, remove vertical grid lines, column width and resize the plotting area to better see the figure. "
   ]
  },
  {
   "cell_type": "code",
   "execution_count": null,
   "metadata": {},
   "outputs": [],
   "source": [
    "dt_sep<-data.table::data.table(bd=c(\"Cleaning dwelling, males\",\"Cleaning dwelling, males\"),geo=c(\" \",\"  \"),values=c(NA,NA))\n",
    "dt<-rbind(dt,dt_sep)\n",
    "geo_ord<-dt[(geo %in% eu_ctry_names)&grepl(\"Food management except dish washing, females\",bd)]\n",
    "geo_ord<-geo_ord[order(values)]$geo\n",
    "geo_ord<-c(geo_ord,' ','Norway','  ','Turkey','Serbia')\n",
    "dt$geo<-factor(dt$geo,levels=geo_ord)\n",
    "bd_ord<-sort(unique(dt$bd),decreasing=TRUE)\n",
    "dt$bd<-factor(dt$bd,levels=bd_ord)"
   ]
  },
  {
   "cell_type": "code",
   "execution_count": null,
   "metadata": {},
   "outputs": [],
   "source": [
    "fig5_colors<-c(\"#FAA519\",\"#FCC975\",\"#286EB4\",\"#71A8DF\")\n",
    "\n",
    "options(repr.plot.width=9, repr.plot.height=6,repr.plot.res=300)\n",
    "ggplot(dt,aes(x=geo,y=values)) + theme_minimal() +\n",
    "  geom_bar(data=dt, aes(fill=bd),position=\"dodge\",stat=\"identity\",width=0.6)+\n",
    "  scale_fill_manual(values = fig5_colors)+\n",
    "  ggtitle(\"Figure 5: Participation rate per day in cleaning and food management, by gender, % (2008 to 2015)\") +\n",
    "  ylab(\"\")+\n",
    "  xlab(\"\")+\n",
    "  theme(legend.title = element_blank(),\n",
    "        legend.position= \"bottom\",\n",
    "        axis.text.x = element_text(angle = 90, hjust = 1),\n",
    "        panel.grid.major.x = element_blank(),\n",
    "        panel.grid.minor.y = element_blank())"
   ]
  }
 ],
 "metadata": {
  "kernelspec": {
   "display_name": "R",
   "language": "R",
   "name": "ir"
  },
  "language_info": {
   "codemirror_mode": "r",
   "file_extension": ".r",
   "mimetype": "text/x-r-source",
   "name": "R",
   "pygments_lexer": "r",
   "version": "4.0.5"
  }
 },
 "nbformat": 4,
 "nbformat_minor": 4
}

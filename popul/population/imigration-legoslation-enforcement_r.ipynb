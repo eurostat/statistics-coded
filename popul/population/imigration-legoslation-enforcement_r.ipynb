{
 "cells": [
  {
   "cell_type": "markdown",
   "id": "prompt-inflation",
   "metadata": {},
   "source": [
    "# Enforcement of Immigration Legislation\n",
    "\n",
    "Eurostat - [Asylum and Managed Migration team](ESTAT-AMM-STATISTICS@ec.europa.eu)\n",
    "\n",
    "27 May 2021"
   ]
  },
  {
   "cell_type": "markdown",
   "id": "variable-pressure",
   "metadata": {},
   "source": [
    "Welcome to this *statistics coded* notebook. This notebook developed with Rmd will allow to reproduce the graphics presented in the Statistics Explained article on [Enforcement of Immigration Legislation statistics](https://ec.europa.eu/eurostat/statistics-explained/index.php?title=Enforcement_of_immigration_legislation_statistics). \n",
    "\n",
    "\n",
    "<center>\n",
    "<img alt=\"\" src=\"https://ec.europa.eu/eurostat/statistics-explained/images/thumb/e/e0/Non-EU_citizens_subject_to_immigration_law_enforcement%2C_2019_number_MI20.jpg/500px-Non-EU_citizens_subject_to_immigration_law_enforcement%2C_2019_number_MI20.jpg\" decoding=\"async\" width=\"500\" height=\"500\" class=\"thumbimage\" srcset=\"https://ec.europa.eu/eurostat/statistics-explained/images/thumb/e/e0/Non-EU_citizens_subject_to_immigration_law_enforcement%2C_2019_number_MI20.jpg/750px-Non-EU_citizens_subject_to_immigration_law_enforcement%2C_2019_number_MI20.jpg 1.5x, https://ec.europa.eu/eurostat/statistics-explained/images/thumb/e/e0/Non-EU_citizens_subject_to_immigration_law_enforcement%2C_2019_number_MI20.jpg/1000px-Non-EU_citizens_subject_to_immigration_law_enforcement%2C_2019_number_MI20.jpg 2x\" />\n",
    "</center>\n",
    "\n",
    "\n",
    "This article presents indicators on the enforcement of immigration legislation. It provides statistics on: third country or non-European Union (EU) citizens who were refused entry at the external borders of the EU-27<sup>1</sup>; non-EU citizens who were illegally present on the territory of an EU Member State; and non-EU citizens who were ordered to leave the territory of an EU Member State<sup>2</sup>. Each of these indicators can be regarded as an official record of persons subject to the enforcement of EU immigration legislation, providing a general overview of the outcomes of territorial surveillance and control procedures.\n",
    "\n",
    "<sup>1</sup> EU aggregates are computed as the sum of the national statistics available for the EU Member States. It is possible that the statistics for the EU involve some double counting of individuals if they are found to be illegally present in more than one Member State.\n",
    "\n",
    "<sup>2</sup> Statistics on the enforcement of immigration legislation refer to the concept of external borders for all EU Member States and EFTA countries, even if some of these are not in the Schengen area. The external borders of the Schengen area do not coincide with the external borders of the EU Member States due to: opt-outs for Ireland from the Schengen area; Bulgaria, Croatia, Cyprus and Romania are not yet members of the Schengen area; Iceland, Liechtenstein, Norway and Switzerland are part of the Schengen area but are not members of the EU."
   ]
  },
  {
   "cell_type": "code",
   "execution_count": 2,
   "id": "structural-buffalo",
   "metadata": {},
   "outputs": [],
   "source": [
    "library(data.table)\n",
    "library(restatapi)\n",
    "library(plotly)\n",
    "library(tmap)\n",
    "library(tidyverse)\n",
    "library(DT)\n",
    "#library(formatR)\n",
    "library(giscoR)"
   ]
  },
  {
   "cell_type": "code",
   "execution_count": 3,
   "id": "northern-example",
   "metadata": {},
   "outputs": [
    {
     "name": "stderr",
     "output_type": "stream",
     "text": [
      "Linking to GEOS 3.6.2, GDAL 2.2.3, PROJ 4.9.3\n",
      "\n"
     ]
    }
   ],
   "source": [
    "ref_tot <- setDT(get_eurostat_data(\"migr_eirfs\"))\n",
    "app_tot<- setDT(get_eurostat_data(\"migr_eipre\"))\n",
    "ord_tot <- setDT(get_eurostat_data(\"migr_eiord\"))\n",
    "ret_tot <- setDT(get_eurostat_data(\"migr_eirtn\"))\n",
    "ret_type <- setDT(get_eurostat_data(\"migr_eirt_vol\"))\n",
    "ret_ass <- setDT(get_eurostat_data(\"migr_eirt_ass\"))\n",
    "\n",
    "map <- gisco_get_nuts(\n",
    "  resolution = \"60\",\n",
    "  nuts_level = \"0\",\n",
    "  year = \"2016\"\n",
    ")"
   ]
  },
  {
   "cell_type": "markdown",
   "id": "compact-consensus",
   "metadata": {},
   "source": [
    "# Non-EU citizens subject to the enforcement of immigration legislation in EU Member States, 2009-2019"
   ]
  },
  {
   "cell_type": "code",
   "execution_count": 4,
   "id": "informal-leeds",
   "metadata": {},
   "outputs": [
    {
     "ename": "ERROR",
     "evalue": "Error in `[.data.table`(dt, , `:=`(ordered, ordered[1:8, V1])): Supplied 8 items to be assigned to 7 items of column 'ordered'. If you wish to 'recycle' the RHS please use rep() to make this intent clear to readers of your code.\n",
     "output_type": "error",
     "traceback": [
      "Error in `[.data.table`(dt, , `:=`(ordered, ordered[1:8, V1])): Supplied 8 items to be assigned to 7 items of column 'ordered'. If you wish to 'recycle' the RHS please use rep() to make this intent clear to readers of your code.\nTraceback:\n",
      "1. dt[, `:=`(ordered, ordered[1:8, V1])]",
      "2. `[.data.table`(dt, , `:=`(ordered, ordered[1:8, V1]))"
     ]
    }
   ],
   "source": [
    "refused <- ref_tot[geo == \"EU28\" & reason == \"TOTAL\" & indic_mg == \"TOT_REF\" & !(citizen %in% c(\"TOTAL\",\"EUR_OTH\",\"AME\",\"AFR\",\"ASI\",\"EUR\",\"OCE\")), sum(values, na.rm = T),time]\n",
    "\n",
    "apprehended <- app_tot[geo == \"EU28\" & !(citizen %in% c(\"TOTAL\",\"EUR_C_E_OTH\",\"AME\",\"AFR\",\"ASI\",\"EUR\",\"OCE\")) & age == \"TOTAL\" & sex == \"T\", sum(values, na.rm = T),time]\n",
    "\n",
    "ordered <- ord_tot[geo == \"EU28\" & sex == \"T\" & !(citizen %in% c(\"TOTAL\",\"EUR_C_E_OTH\",\"AME\",\"AFR\",\"ASI\",\"EUR\",\"OCE\")) & age == \"TOTAL\", sum(values, na.rm =T ),time]\n",
    "\n",
    "returned <- ret_tot[geo == \"EU28\" & sex == \"T\" & !(citizen %in% c(\"TOTAL\",\"EUR_C_E_OTH\",\"EUR_OTH\",\"AME\",\"AFR\",\"ASI\",\"EUR\",\"OCE\")) & age == \"TOTAL\" & indic_mg == \"TOT_RET\", sum(values, na.rm =T ),time]\n",
    "\n",
    "dt <- copy(refused)\n",
    "dt[,apprehended := apprehended[,V1]]\n",
    "dt[,ordered := ordered[1:8,V1]]\n",
    "dt[,returned := returned[1:8,V1]]\n",
    "setnames(dt,\"V1\",\"refused\")\n",
    "\n",
    "plot_ly(dt, x = ~time,y= ~refused,\n",
    "               name = \"Refused\",type = \"scatter\",mode = 'lines+markers') %>%\n",
    "  add_trace(y = ~apprehended, name = 'Apprehended', mode = 'lines+markers') %>%\n",
    "  add_trace(y = ~ordered, name = 'Ordered to leave', mode = 'lines+markers') %>%\n",
    "  add_trace(y = ~returned, name = 'Returned', mode = 'lines+markers') %>%\n",
    "  layout(paper_bgcolor='gray20',\n",
    "           plot_bgcolor='gray87',\n",
    "           xaxis = list(color = 'black',tickangle = 0),\n",
    "           yaxis = list(color = 'black', title = \"Persons\")\n",
    "    ) %>%\n",
    "  layout(hovermode = \"x unified\")\n"
   ]
  },
  {
   "cell_type": "markdown",
   "id": "obvious-manner",
   "metadata": {},
   "source": [
    "# Non-EU citizens found to be illegally present \n",
    "\n",
    "## Overview \n",
    "### Map"
   ]
  },
  {
   "cell_type": "code",
   "execution_count": null,
   "id": "cheap-sweet",
   "metadata": {},
   "outputs": [],
   "source": [
    "tmap_mode(\"view\")\n",
    "app_map <- app_tot[time == \"2020-01-01\" & !(citizen %in% c(\"TOTAL\",\"EUR_C_E_OTH\",\"AME\",\"AFR\",\"ASI\",\"EUR\",\"OCE\")) & age == \"TOTAL\" & sex == \"T\", sum(values, na.rm = T),geo]\n",
    "setnames(app_map,\"V1\",\"Apprehended\")\n",
    "\n",
    "map <- left_join(map, app_map, by=\"geo\")%>%\n",
    "  tm_shape() +\n",
    "  tm_fill(\"Apprehended\",\n",
    "    popup.vars = c(\"Apprehended\",\"NUTS_ID\", \"NUTS_NAME\"),\n",
    "    palette = \"Oranges\", \n",
    "    breaks = c(0,1000, 5000, 25000, 50000, Inf),\n",
    "    title = \"Persons found to be illegally present\"\n",
    "  ) +\n",
    "  tm_borders() +\n",
    "  tm_layout(bg.color = \"lightblue\")\n",
    "\n",
    "map"
   ]
  },
  {
   "cell_type": "markdown",
   "id": "respiratory-trance",
   "metadata": {},
   "source": [
    "### Chart"
   ]
  },
  {
   "cell_type": "code",
   "execution_count": null,
   "id": "figured-upset",
   "metadata": {},
   "outputs": [],
   "source": [
    "app <- app_tot[!(geo %in% c(\"EU27_2020\",\"EU28\")) & !(citizen %in% c(\"TOTAL\",\"EUR_C_E_OTH\",\"AME\",\"AFR\",\"ASI\",\"EUR\",\"OCE\")) & age == \"TOTAL\" & sex == \"T\",]\n",
    "app[!(geo %in% c(\"DE\",\"EL\",\"ES\",\"FR\",\"HU\")), geo := \"OTH_MS\"]\n",
    "app <- app[,sum(values,na.rm = T), .(geo, time)]\n",
    "app <- dcast(app, time~geo, value.var = \"V1\")\n",
    "\n",
    "plot_ly(app, x = ~time,y= ~DE,\n",
    "               name = \"Germany\",type = \"scatter\",mode = 'lines+markers') %>%\n",
    "  add_trace(y = ~EL, name = 'Greece', mode = 'lines+markers') %>%\n",
    "  add_trace(y = ~ES, name = 'Spain', mode = 'lines+markers') %>%\n",
    "  add_trace(y = ~FR, name = 'France', mode = 'lines+markers') %>%\n",
    "  add_trace(y = ~HU, name = 'Hungary', mode = 'lines+markers') %>%\n",
    "  add_trace(y = ~OTH_MS, name = 'Other Member States', mode = 'lines+markers') %>%\n",
    "  layout(paper_bgcolor='gray20',\n",
    "           plot_bgcolor='gray87',\n",
    "           xaxis = list(color = 'black',tickangle = 0),\n",
    "           yaxis = list(color = 'black', title = \"Persons\")\n",
    "    ) %>%\n",
    "  layout(hovermode = \"x unified\")"
   ]
  },
  {
   "cell_type": "markdown",
   "id": "willing-barbados",
   "metadata": {},
   "source": [
    "## Non-EU citizens found to be illegally present — by sex and age{.tabset .tabset-fade .tabset-pills}\n",
    "### Bar chart"
   ]
  },
  {
   "cell_type": "code",
   "execution_count": null,
   "id": "academic-pressure",
   "metadata": {},
   "outputs": [],
   "source": [
    "app_bar <- app_tot[geo == \"EU28\" & !(citizen %in% c(\"TOTAL\",\"EUR_C_E_OTH\",\"AME\",\"AFR\",\"ASI\",\"EUR\",\"OCE\")) & !(age %in% c(\"TOTAL\",\"UNK\",\"Y_LT18\")) & sex != \"T\" & time == \"2019-01-01\", sum(values, na.rm = T),.(sex,age)] %>% \n",
    "  dcast( age~sex, value.var = \"V1\")\n",
    "\n",
    "app_bar[age == \"Y18-34\", age := '18-34 years']\n",
    "app_bar[age == \"Y14-17\", age := '14-17 years']\n",
    "app_bar[age == \"Y_LT14\", age := '< 14 years']\n",
    "app_bar[age == \"Y_GE35\", age := '>= 35 years']\n",
    "app_bar <- app_bar[c(3,2,1,4)]\n",
    "\n",
    "\n",
    "tit3 <- \"Non-EU citizens found to be illegally present in the EU-27, by sex and age - 2019\"\n",
    "plot_ly(app_bar, x = ~F, y = ~age, type = 'bar', orientation = 'h', name = 'Women',\n",
    "        marker = list(color = 'gold',\n",
    "                      line = list(color = 'gold',\n",
    "                                  width = 3)))%>%\n",
    "  add_trace(x = ~M, name = 'Men',\n",
    "            marker = list(color = 'darkblue',\n",
    "                          line = list(color = 'darkblue',\n",
    "                                      width = 3)))%>%\n",
    "  layout(barmode = 'stack',\n",
    "         xaxis = list(title = \"Number of persons\"),\n",
    "         yaxis = list(title =\"Age\"),\n",
    "         title=tit3)"
   ]
  },
  {
   "cell_type": "markdown",
   "id": "modern-choir",
   "metadata": {},
   "source": [
    "### Table\n",
    "\n",
    "**Top 20 countries of citizenship of non-EU citizens found to be illegally present in the EU-27, 2014-2019**"
   ]
  },
  {
   "cell_type": "code",
   "execution_count": null,
   "id": "objective-underground",
   "metadata": {},
   "outputs": [],
   "source": [
    "app_tab <- app_tot[!(citizen %in% c(\"TOTAL\",\"EUR_C_E_OTH\",\"AME\",\"AFR\",\"ASI\",\"EUR\",\"OCE\")) & age == \"TOTAL\" & sex == \"T\" & time <= \"2020-01-01\" & time >= \"2015-01-01\",sum(values,na.rm = T),.(citizen,time) ]\n",
    "\n",
    "top20 <- app_tab[,sum(V1,na.rm=T),citizen]\n",
    "setnames(top20, \"V1\",\"Total\")\n",
    "top20 <- top20[order(-Total)]\n",
    "top20 <- top20[1:20,]\n",
    "\n",
    "app_tab[,time:=substring(time,1,4)]\n",
    "app_tab <-  dcast(app_tab, citizen~time, value.var = \"V1\")\n",
    "\n",
    "app_tab <- left_join(top20, app_tab)\n",
    "\n",
    "datatable(app_tab[1:20], rownames = FALSE, filter=\"top\", options = list(pageLength = 5, scrollX=T) )"
   ]
  },
  {
   "cell_type": "markdown",
   "id": "pretty-employment",
   "metadata": {},
   "source": [
    "# Non-EU citizens ordered to leave the EU-27\n",
    "## Table \n",
    "**Non-EU citizens ordered to leave the territory of an EU Member State, the United Kingdom or an EFTA country, 2015-2020**"
   ]
  },
  {
   "cell_type": "code",
   "execution_count": null,
   "id": "italic-ribbon",
   "metadata": {},
   "outputs": [],
   "source": [
    "ord_tab <-  ord_tot[sex == \"T\" & citizen == \"TOTAL\" & age == \"TOTAL\"& time >= \"2015-01-01\" ,sum(values,na.rm=T),.(geo,time)]\n",
    "ord_tab[,time:=substring(time,1,4)]\n",
    "ord_tab <-  dcast(ord_tab, geo~time, value.var = \"V1\")\n",
    "datatable(ord_tab, rownames = FALSE, filter=\"top\", options = list(pageLength = 5, scrollX=T) )"
   ]
  },
  {
   "cell_type": "markdown",
   "id": "dominant-backing",
   "metadata": {},
   "source": [
    "## Bar chart\n",
    "**Top 20 countries of citizenship of non-EU citizens ordered to leave the EU-27, 2020 and 2019** "
   ]
  },
  {
   "cell_type": "code",
   "execution_count": null,
   "id": "changed-infection",
   "metadata": {},
   "outputs": [],
   "source": [
    "ord_tab <-  ord_tot[geo == \"EU28\" & sex == \"T\" & age == \"TOTAL\"& !(citizen %in% c(\"TOTAL\",\"EUR_C_E_OTH\",\"AME\",\"AFR\",\"ASI\",\"EUR\",\"OCE\")) & time <= \"2019-01-01\" & time >= \"2018-01-01\",sum(values,na.rm = T),.(citizen,time)]\n",
    "ord_tab[,time:=substring(time,1,4)]\n",
    "top20 <- ord_tab[time == \"2019\",]\n",
    "top20 <- top20[order(-V1),]\n",
    "top20 <- top20[1:20, .(citizen)]\n",
    "\n",
    "ord_tab <- left_join(top20,ord_tab)\n",
    "ord_tab <-  dcast(ord_tab, citizen~time, value.var = \"V1\")\n",
    "setnames(ord_tab, names(ord_tab), c(\"citizen\",\"year_1\",\"year\"))\n",
    "\n",
    "plot_ly(ord_tab, x = ~citizen, y = ~year_1, type = 'bar', name = '2019')%>% \n",
    "  add_trace(y = ~year, name = '2020')%>%\n",
    "  layout(barmode = 'group',\n",
    "         xaxis = list(title = \"Citizenship\"),\n",
    "         yaxis = list(title =\"Number of persons\"),\n",
    "         hovermode='x unified')\n"
   ]
  },
  {
   "cell_type": "markdown",
   "id": "primary-psychiatry",
   "metadata": {},
   "source": [
    "# Returns of non-EU citizens\n",
    "## Overview"
   ]
  },
  {
   "cell_type": "code",
   "execution_count": null,
   "id": "incorporate-township",
   "metadata": {},
   "outputs": [],
   "source": [
    "ret_tab <-  ret_tot[geo == \"EU28\" & sex == \"T\" & !(citizen %in% c(\"TOTAL\",\"EUR_C_E_OTH\",\"EUR_OTH\",\"AME\",\"AFR\",\"ASI\",\"EUR\",\"OCE\")) & age == \"TOTAL\" & indic_mg == \"RET_THRD\" & (time ==\"2019-01-01\" | time == \"2018-01-01\"), sum(values, na.rm =T ),.(citizen,time)]\n",
    "ret_tab[,time:=substring(time,1,4)]\n",
    "top20 <- ret_tab[time == \"2019\",]\n",
    "top20 <- top20[order(-V1),]\n",
    "top20 <- top20[1:20, .(citizen)]\n",
    "\n",
    "ret_tab <- left_join(top20,ret_tab)\n",
    "ret_tab <-  dcast(ret_tab, citizen~time, value.var = \"V1\")\n",
    "setnames(ret_tab, names(ret_tab), c(\"citizen\",\"year_1\",\"year\"))\n",
    "\n",
    "plot_ly(ret_tab, x = ~citizen, y = ~year_1, type = 'bar', name = '2018')%>% \n",
    "  add_trace(y = ~year, name = '2019')%>%\n",
    "  layout(barmode = 'group',\n",
    "         xaxis = list(title = \"Citizenship\"),\n",
    "         yaxis = list(title =\"Number of persons\"),\n",
    "         hovermode='x unified')"
   ]
  },
  {
   "cell_type": "markdown",
   "id": "interim-measurement",
   "metadata": {},
   "source": [
    "## Types of returns and assistance received"
   ]
  },
  {
   "cell_type": "code",
   "execution_count": null,
   "id": "pediatric-bottom",
   "metadata": {},
   "outputs": [],
   "source": [
    "ret_tab2 <-  ret_type[!(citizen %in% c(\"TOTAL\",\"EUR_C_E_OTH\",\"EUR_C_E_OTH\",\"AME\",\"AFR\",\"ASI\",\"EUR\",\"OCE\")) & (time ==\"2020-01-01\"), sum(values, na.rm =T ),.(geo,indic_mg)]\n",
    "\n",
    "ret_tab2 <-  dcast(ret_tab2, geo~indic_mg, value.var = \"V1\")\n",
    "ret_tab2 <- ret_tab2[,lapply(.SD, function(x) round(x/TOT_RET*100)), .SDcols=c(\"ENFORCE\",\"OTH\",\"VOLUNT\"), by = geo]\n",
    "\n",
    "plot_ly(ret_tab2, x = ~geo, y = ~ENFORCE, type = 'bar', name = 'Enforced return')%>% \n",
    "    add_trace(y = ~OTH, name = 'Other')%>%\n",
    "  add_trace(y = ~VOLUNT, name = 'Voluntary return')%>%\n",
    "    layout(barmode = 'stack',\n",
    "           xaxis = list(title = \"\"),\n",
    "           yaxis = list(title =\"%\"),\n",
    "           hovermode='x unified')\n"
   ]
  },
  {
   "cell_type": "code",
   "execution_count": null,
   "id": "spread-locator",
   "metadata": {},
   "outputs": [],
   "source": [
    "ret_tab3 <-  ret_ass[!(citizen %in% c(\"TOTAL\",\"EUR_C_E_OTH\",\"EUR_C_E_OTH\",\"AME\",\"AFR\",\"ASI\",\"EUR\",\"OCE\")) & (time ==\"2019-01-01\"), sum(values, na.rm =T ),.(geo,indic_mg)]\n",
    "\n",
    "ret_tab3 <-  dcast(ret_tab3, geo~indic_mg, value.var = \"V1\")\n",
    "ret_tab3 <- ret_tab3[,lapply(.SD, function(x) round(x/TOT_RET*100)), .SDcols=c(\"ASSIST\",\"N_ASSIST\",\"UNK\"), by = geo]\n",
    "\n",
    "plot_ly(ret_tab3, x = ~geo, y = ~ASSIST, type = 'bar', name = 'Assisted return')%>% \n",
    "    add_trace(y = ~N_ASSIST, name = 'Non assisted return')%>%\n",
    "  add_trace(y = ~UNK, name = 'Unkown')%>%\n",
    "    layout(barmode = 'stack',\n",
    "           xaxis = list(title = \"\"),\n",
    "           yaxis = list(title =\"%\"),\n",
    "           hovermode='x unified')"
   ]
  },
  {
   "cell_type": "markdown",
   "id": "moving-cooperative",
   "metadata": {},
   "source": [
    "# Non-EU citizens refused entry into the EU-27\n",
    "## Overview"
   ]
  },
  {
   "cell_type": "code",
   "execution_count": null,
   "id": "exempt-flesh",
   "metadata": {},
   "outputs": [],
   "source": [
    "ref_pie <- ref_tot[geo !=\"EU27_2020\" & time == \"2020-01-01\" & reason == \"TOTAL\" & indic_mg == \"TOT_REF\" ,.(geo,values) ]\n",
    "plot_ly( data = ref_pie, labels = ~geo, values = ~values, type = \"pie\", textinfo = \"label+percent\", insidetextorientation = \"radial\" ) "
   ]
  },
  {
   "cell_type": "markdown",
   "id": "biblical-pillow",
   "metadata": {},
   "source": [
    "## Bar charts"
   ]
  },
  {
   "cell_type": "code",
   "execution_count": null,
   "id": "generous-category",
   "metadata": {},
   "outputs": [],
   "source": [
    "ref_tab <-  ref_tot[!(geo %in% c(\"EU28\",\"EU27_2020\")) &reason == \"TOTAL\" & !(citizen %in% c(\"TOTAL\",\"EUR_OTH\",\"AME\",\"AFR\",\"ASI\",\"EUR\",\"OCE\")) & time == \"2019-01-01\", sum(values, na.rm = T), .(citizen, indic_mg)]\n",
    "\n",
    "top20 <- ref_tab[indic_mg==\"TOT_REF\"]\n",
    "top20 <- top20[order(-V1)]\n",
    "top20 <- top20[1:20,.(citizen)]\n",
    "\n",
    "ref_tab <- left_join(top20, ref_tab)\n",
    "ref_tab <-  dcast(ref_tab, citizen~indic_mg, value.var = \"V1\")\n",
    "\n",
    "plot_ly(ref_tab, x = ~citizen, y = ~REF_AIR, type = 'bar', name = 'Air')%>% \n",
    "    add_trace(y = ~REF_LAND, name = 'Land')%>%\n",
    "  add_trace(y = ~REF_SEA, name = 'Sea')%>%\n",
    "    layout(barmode = 'stack',\n",
    "           xaxis = list(title = \"\"),\n",
    "           yaxis = list(title =\"%\"),\n",
    "           hovermode='x unified')"
   ]
  },
  {
   "cell_type": "code",
   "execution_count": null,
   "id": "smooth-waste",
   "metadata": {},
   "outputs": [],
   "source": [
    "ref_tab2 <-  ref_tot[!(geo %in% c(\"EU28\",\"EU27_2020\")) &reason != \"TOTAL\" &indic_mg == \"TOT_REF\" & !(citizen %in% c(\"TOTAL\",\"EUR_OTH\",\"AME\",\"AFR\",\"ASI\",\"EUR\",\"OCE\")) & time == \"2019-01-01\", sum(values, na.rm = T), .(reason)]\n",
    "\n",
    "plot_ly(ref_tab2, x = ~reason, y = ~V1, type = 'bar', name = 'Reason')%>% \n",
    "    layout(barmode = 'stack',\n",
    "           xaxis = list(title = \"\"),\n",
    "           yaxis = list(title =\"Number\"),\n",
    "           hovermode='x unified')"
   ]
  }
 ],
 "metadata": {
  "kernelspec": {
   "display_name": "R",
   "language": "R",
   "name": "ir"
  },
  "language_info": {
   "codemirror_mode": "r",
   "file_extension": ".r",
   "mimetype": "text/x-r-source",
   "name": "R",
   "pygments_lexer": "r",
   "version": "4.0.5"
  }
 },
 "nbformat": 4,
 "nbformat_minor": 5
}
